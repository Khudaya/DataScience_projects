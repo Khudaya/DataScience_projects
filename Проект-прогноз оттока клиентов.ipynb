{
 "cells": [
  {
   "cell_type": "markdown",
   "metadata": {},
   "source": [
    "# Исследовательский анализ данных"
   ]
  },
  {
   "cell_type": "markdown",
   "metadata": {},
   "source": [
    "Оператор связи «Ниединогоразрыва.ком» хочет научиться прогнозировать отток клиентов. Если выяснится, что пользователь планирует уйти, ему будут предложены промокоды и специальные условия. Команда оператора собрала персональные данные о некоторых клиентах, информацию об их тарифах и договорах."
   ]
  },
  {
   "cell_type": "markdown",
   "metadata": {},
   "source": [
    "## План работы"
   ]
  },
  {
   "cell_type": "markdown",
   "metadata": {},
   "source": [
    "<h3>1. Предобработка данных. </h3>\n",
    "<div>Подготовить данные к последующему анализу: проверить пропущенные значения, при необходимости изменить тип данных и заполнить пропуски. Выявить целевой признак.</div>\n",
    "<h3>2.Анализ данных.</h3>\n",
    "<div> Сравнить частоту подключений и отказов от обслуживания для всех всех типах услуг. Выявить признаки, влияющие на целевой. </div>\n",
    "<h3>3. Построить модель.</h3>\n",
    "<div> Разделить данные на обучающую, валидационную и тестовую выборки. Обучить разные модели с различными гиперпараметрами.</div>\n",
    "<h3>4. Проверка качества модели.</h3>\n",
    "<div>Выберать лучшую модель и проверьте её на тестовой выборке. </div>"
   ]
  },
  {
   "cell_type": "code",
   "execution_count": 1,
   "metadata": {},
   "outputs": [],
   "source": [
    "import pandas as pd\n",
    "import matplotlib.pyplot as plt\n",
    "from statsmodels.tsa.seasonal import seasonal_decompose\n",
    "import numpy as np\n",
    "import seaborn as sns"
   ]
  },
  {
   "cell_type": "code",
   "execution_count": 2,
   "metadata": {},
   "outputs": [],
   "source": [
    "contract_data=pd.read_csv('/datasets/final_provider/contract.csv').reset_index(drop=True)\n",
    "personal_data=pd.read_csv('/datasets/final_provider/personal.csv')\n",
    "internet_data=pd.read_csv('/datasets/final_provider/internet.csv')\n",
    "phone_data=pd.read_csv('/datasets/final_provider/phone.csv')"
   ]
  },
  {
   "cell_type": "markdown",
   "metadata": {},
   "source": [
    "### 1. Предобработка данных"
   ]
  },
  {
   "cell_type": "markdown",
   "metadata": {},
   "source": [
    "#### 1.1 Обработка информацию о договорах"
   ]
  },
  {
   "cell_type": "code",
   "execution_count": 3,
   "metadata": {},
   "outputs": [
    {
     "data": {
      "text/html": [
       "<div>\n",
       "<style scoped>\n",
       "    .dataframe tbody tr th:only-of-type {\n",
       "        vertical-align: middle;\n",
       "    }\n",
       "\n",
       "    .dataframe tbody tr th {\n",
       "        vertical-align: top;\n",
       "    }\n",
       "\n",
       "    .dataframe thead th {\n",
       "        text-align: right;\n",
       "    }\n",
       "</style>\n",
       "<table border=\"1\" class=\"dataframe\">\n",
       "  <thead>\n",
       "    <tr style=\"text-align: right;\">\n",
       "      <th></th>\n",
       "      <th>customerID</th>\n",
       "      <th>BeginDate</th>\n",
       "      <th>EndDate</th>\n",
       "      <th>Type</th>\n",
       "      <th>PaperlessBilling</th>\n",
       "      <th>PaymentMethod</th>\n",
       "      <th>MonthlyCharges</th>\n",
       "      <th>TotalCharges</th>\n",
       "    </tr>\n",
       "  </thead>\n",
       "  <tbody>\n",
       "    <tr>\n",
       "      <td>0</td>\n",
       "      <td>7590-VHVEG</td>\n",
       "      <td>2020-01-01</td>\n",
       "      <td>No</td>\n",
       "      <td>Month-to-month</td>\n",
       "      <td>Yes</td>\n",
       "      <td>Electronic check</td>\n",
       "      <td>29.85</td>\n",
       "      <td>29.85</td>\n",
       "    </tr>\n",
       "    <tr>\n",
       "      <td>1</td>\n",
       "      <td>5575-GNVDE</td>\n",
       "      <td>2017-04-01</td>\n",
       "      <td>No</td>\n",
       "      <td>One year</td>\n",
       "      <td>No</td>\n",
       "      <td>Mailed check</td>\n",
       "      <td>56.95</td>\n",
       "      <td>1889.5</td>\n",
       "    </tr>\n",
       "    <tr>\n",
       "      <td>2</td>\n",
       "      <td>3668-QPYBK</td>\n",
       "      <td>2019-10-01</td>\n",
       "      <td>2019-12-01 00:00:00</td>\n",
       "      <td>Month-to-month</td>\n",
       "      <td>Yes</td>\n",
       "      <td>Mailed check</td>\n",
       "      <td>53.85</td>\n",
       "      <td>108.15</td>\n",
       "    </tr>\n",
       "    <tr>\n",
       "      <td>3</td>\n",
       "      <td>7795-CFOCW</td>\n",
       "      <td>2016-05-01</td>\n",
       "      <td>No</td>\n",
       "      <td>One year</td>\n",
       "      <td>No</td>\n",
       "      <td>Bank transfer (automatic)</td>\n",
       "      <td>42.30</td>\n",
       "      <td>1840.75</td>\n",
       "    </tr>\n",
       "    <tr>\n",
       "      <td>4</td>\n",
       "      <td>9237-HQITU</td>\n",
       "      <td>2019-09-01</td>\n",
       "      <td>2019-11-01 00:00:00</td>\n",
       "      <td>Month-to-month</td>\n",
       "      <td>Yes</td>\n",
       "      <td>Electronic check</td>\n",
       "      <td>70.70</td>\n",
       "      <td>151.65</td>\n",
       "    </tr>\n",
       "    <tr>\n",
       "      <td>...</td>\n",
       "      <td>...</td>\n",
       "      <td>...</td>\n",
       "      <td>...</td>\n",
       "      <td>...</td>\n",
       "      <td>...</td>\n",
       "      <td>...</td>\n",
       "      <td>...</td>\n",
       "      <td>...</td>\n",
       "    </tr>\n",
       "    <tr>\n",
       "      <td>65</td>\n",
       "      <td>5122-CYFXA</td>\n",
       "      <td>2019-11-01</td>\n",
       "      <td>No</td>\n",
       "      <td>Month-to-month</td>\n",
       "      <td>Yes</td>\n",
       "      <td>Electronic check</td>\n",
       "      <td>75.30</td>\n",
       "      <td>244.1</td>\n",
       "    </tr>\n",
       "    <tr>\n",
       "      <td>66</td>\n",
       "      <td>8627-ZYGSZ</td>\n",
       "      <td>2016-03-01</td>\n",
       "      <td>No</td>\n",
       "      <td>One year</td>\n",
       "      <td>Yes</td>\n",
       "      <td>Electronic check</td>\n",
       "      <td>78.90</td>\n",
       "      <td>3650.35</td>\n",
       "    </tr>\n",
       "    <tr>\n",
       "      <td>67</td>\n",
       "      <td>3410-YOQBQ</td>\n",
       "      <td>2017-07-01</td>\n",
       "      <td>No</td>\n",
       "      <td>Two year</td>\n",
       "      <td>No</td>\n",
       "      <td>Mailed check</td>\n",
       "      <td>79.20</td>\n",
       "      <td>2497.2</td>\n",
       "    </tr>\n",
       "    <tr>\n",
       "      <td>68</td>\n",
       "      <td>3170-NMYVV</td>\n",
       "      <td>2015-12-01</td>\n",
       "      <td>No</td>\n",
       "      <td>Two year</td>\n",
       "      <td>No</td>\n",
       "      <td>Bank transfer (automatic)</td>\n",
       "      <td>20.15</td>\n",
       "      <td>930.9</td>\n",
       "    </tr>\n",
       "    <tr>\n",
       "      <td>69</td>\n",
       "      <td>7410-OIEDU</td>\n",
       "      <td>2019-04-01</td>\n",
       "      <td>No</td>\n",
       "      <td>Month-to-month</td>\n",
       "      <td>Yes</td>\n",
       "      <td>Mailed check</td>\n",
       "      <td>79.85</td>\n",
       "      <td>887.35</td>\n",
       "    </tr>\n",
       "  </tbody>\n",
       "</table>\n",
       "<p>70 rows × 8 columns</p>\n",
       "</div>"
      ],
      "text/plain": [
       "    customerID   BeginDate              EndDate            Type  \\\n",
       "0   7590-VHVEG  2020-01-01                   No  Month-to-month   \n",
       "1   5575-GNVDE  2017-04-01                   No        One year   \n",
       "2   3668-QPYBK  2019-10-01  2019-12-01 00:00:00  Month-to-month   \n",
       "3   7795-CFOCW  2016-05-01                   No        One year   \n",
       "4   9237-HQITU  2019-09-01  2019-11-01 00:00:00  Month-to-month   \n",
       "..         ...         ...                  ...             ...   \n",
       "65  5122-CYFXA  2019-11-01                   No  Month-to-month   \n",
       "66  8627-ZYGSZ  2016-03-01                   No        One year   \n",
       "67  3410-YOQBQ  2017-07-01                   No        Two year   \n",
       "68  3170-NMYVV  2015-12-01                   No        Two year   \n",
       "69  7410-OIEDU  2019-04-01                   No  Month-to-month   \n",
       "\n",
       "   PaperlessBilling              PaymentMethod  MonthlyCharges TotalCharges  \n",
       "0               Yes           Electronic check           29.85        29.85  \n",
       "1                No               Mailed check           56.95       1889.5  \n",
       "2               Yes               Mailed check           53.85       108.15  \n",
       "3                No  Bank transfer (automatic)           42.30      1840.75  \n",
       "4               Yes           Electronic check           70.70       151.65  \n",
       "..              ...                        ...             ...          ...  \n",
       "65              Yes           Electronic check           75.30        244.1  \n",
       "66              Yes           Electronic check           78.90      3650.35  \n",
       "67               No               Mailed check           79.20       2497.2  \n",
       "68               No  Bank transfer (automatic)           20.15        930.9  \n",
       "69              Yes               Mailed check           79.85       887.35  \n",
       "\n",
       "[70 rows x 8 columns]"
      ]
     },
     "execution_count": 3,
     "metadata": {},
     "output_type": "execute_result"
    }
   ],
   "source": [
    "contract_data.head(70)"
   ]
  },
  {
   "cell_type": "code",
   "execution_count": 4,
   "metadata": {},
   "outputs": [
    {
     "name": "stdout",
     "output_type": "stream",
     "text": [
      "<class 'pandas.core.frame.DataFrame'>\n",
      "RangeIndex: 7043 entries, 0 to 7042\n",
      "Data columns (total 8 columns):\n",
      "customerID          7043 non-null object\n",
      "BeginDate           7043 non-null object\n",
      "EndDate             7043 non-null object\n",
      "Type                7043 non-null object\n",
      "PaperlessBilling    7043 non-null object\n",
      "PaymentMethod       7043 non-null object\n",
      "MonthlyCharges      7043 non-null float64\n",
      "TotalCharges        7043 non-null object\n",
      "dtypes: float64(1), object(7)\n",
      "memory usage: 440.3+ KB\n"
     ]
    }
   ],
   "source": [
    "contract_data.info()"
   ]
  },
  {
   "cell_type": "markdown",
   "metadata": {},
   "source": [
    "Пропущенных значений нет, необходимо изменить тип данных в столбцах:BeginDate,EndDate и TotalCharges. Также создадим дополнительный столбец с данными об отказах от услуги. В таблице нет данных о типе услуг."
   ]
  },
  {
   "cell_type": "code",
   "execution_count": 3,
   "metadata": {},
   "outputs": [],
   "source": [
    "# столбец, указывающий отказ от услуг\n",
    "contract_data['number_rescind'] = (\n",
    "    contract_data['EndDate']\n",
    "    .where(contract_data['EndDate']!= 'No', '0')\n",
    "    .where(contract_data['EndDate']== 'No', '1')\n",
    "    .astype('int')\n",
    ")"
   ]
  },
  {
   "cell_type": "code",
   "execution_count": 4,
   "metadata": {},
   "outputs": [],
   "source": [
    "# изменение типа данных на datetime в столбце BeginDate\n",
    "contract_data['BeginDate'] = contract_data['BeginDate'].astype('datetime64')"
   ]
  },
  {
   "cell_type": "code",
   "execution_count": 5,
   "metadata": {},
   "outputs": [],
   "source": [
    "# изменение типа данных на datetime в столбце EndDate\n",
    "contract_data['EndDate']=contract_data['EndDate'].replace('No','2020-02-01 00:00:00')\n",
    "contract_data['EndDate'] = contract_data['EndDate'].astype('datetime64')"
   ]
  },
  {
   "cell_type": "code",
   "execution_count": 6,
   "metadata": {},
   "outputs": [],
   "source": [
    "# изменение типа данных на float в столбце TotalCharges\n",
    "contract_data['TotalCharges'] = pd.to_numeric(contract_data['TotalCharges'],errors='coerce')\n"
   ]
  },
  {
   "cell_type": "code",
   "execution_count": 7,
   "metadata": {},
   "outputs": [
    {
     "name": "stderr",
     "output_type": "stream",
     "text": [
      "/opt/conda/lib/python3.7/site-packages/pandas/core/ops/__init__.py:1115: FutureWarning: elementwise comparison failed; returning scalar instead, but in the future will perform elementwise comparison\n",
      "  result = method(y)\n"
     ]
    }
   ],
   "source": [
    "# замена значений Yes и No на 1 и 0:\n",
    "for i in contract_data:\n",
    "    contract_data = (\n",
    "    contract_data\n",
    "    .where(contract_data != 'No', '0')\n",
    "    .where(contract_data != 'Yes', '1')\n",
    ")"
   ]
  },
  {
   "cell_type": "code",
   "execution_count": 8,
   "metadata": {},
   "outputs": [],
   "source": [
    "contract_data=contract_data.dropna()"
   ]
  },
  {
   "cell_type": "markdown",
   "metadata": {},
   "source": [
    "#### 1.2 Обработка информации о персональных данных"
   ]
  },
  {
   "cell_type": "code",
   "execution_count": 11,
   "metadata": {},
   "outputs": [
    {
     "data": {
      "text/html": [
       "<div>\n",
       "<style scoped>\n",
       "    .dataframe tbody tr th:only-of-type {\n",
       "        vertical-align: middle;\n",
       "    }\n",
       "\n",
       "    .dataframe tbody tr th {\n",
       "        vertical-align: top;\n",
       "    }\n",
       "\n",
       "    .dataframe thead th {\n",
       "        text-align: right;\n",
       "    }\n",
       "</style>\n",
       "<table border=\"1\" class=\"dataframe\">\n",
       "  <thead>\n",
       "    <tr style=\"text-align: right;\">\n",
       "      <th></th>\n",
       "      <th>customerID</th>\n",
       "      <th>gender</th>\n",
       "      <th>SeniorCitizen</th>\n",
       "      <th>Partner</th>\n",
       "      <th>Dependents</th>\n",
       "    </tr>\n",
       "  </thead>\n",
       "  <tbody>\n",
       "    <tr>\n",
       "      <td>0</td>\n",
       "      <td>7590-VHVEG</td>\n",
       "      <td>Female</td>\n",
       "      <td>0</td>\n",
       "      <td>Yes</td>\n",
       "      <td>No</td>\n",
       "    </tr>\n",
       "    <tr>\n",
       "      <td>1</td>\n",
       "      <td>5575-GNVDE</td>\n",
       "      <td>Male</td>\n",
       "      <td>0</td>\n",
       "      <td>No</td>\n",
       "      <td>No</td>\n",
       "    </tr>\n",
       "    <tr>\n",
       "      <td>2</td>\n",
       "      <td>3668-QPYBK</td>\n",
       "      <td>Male</td>\n",
       "      <td>0</td>\n",
       "      <td>No</td>\n",
       "      <td>No</td>\n",
       "    </tr>\n",
       "    <tr>\n",
       "      <td>3</td>\n",
       "      <td>7795-CFOCW</td>\n",
       "      <td>Male</td>\n",
       "      <td>0</td>\n",
       "      <td>No</td>\n",
       "      <td>No</td>\n",
       "    </tr>\n",
       "    <tr>\n",
       "      <td>4</td>\n",
       "      <td>9237-HQITU</td>\n",
       "      <td>Female</td>\n",
       "      <td>0</td>\n",
       "      <td>No</td>\n",
       "      <td>No</td>\n",
       "    </tr>\n",
       "    <tr>\n",
       "      <td>...</td>\n",
       "      <td>...</td>\n",
       "      <td>...</td>\n",
       "      <td>...</td>\n",
       "      <td>...</td>\n",
       "      <td>...</td>\n",
       "    </tr>\n",
       "    <tr>\n",
       "      <td>7038</td>\n",
       "      <td>6840-RESVB</td>\n",
       "      <td>Male</td>\n",
       "      <td>0</td>\n",
       "      <td>Yes</td>\n",
       "      <td>Yes</td>\n",
       "    </tr>\n",
       "    <tr>\n",
       "      <td>7039</td>\n",
       "      <td>2234-XADUH</td>\n",
       "      <td>Female</td>\n",
       "      <td>0</td>\n",
       "      <td>Yes</td>\n",
       "      <td>Yes</td>\n",
       "    </tr>\n",
       "    <tr>\n",
       "      <td>7040</td>\n",
       "      <td>4801-JZAZL</td>\n",
       "      <td>Female</td>\n",
       "      <td>0</td>\n",
       "      <td>Yes</td>\n",
       "      <td>Yes</td>\n",
       "    </tr>\n",
       "    <tr>\n",
       "      <td>7041</td>\n",
       "      <td>8361-LTMKD</td>\n",
       "      <td>Male</td>\n",
       "      <td>1</td>\n",
       "      <td>Yes</td>\n",
       "      <td>No</td>\n",
       "    </tr>\n",
       "    <tr>\n",
       "      <td>7042</td>\n",
       "      <td>3186-AJIEK</td>\n",
       "      <td>Male</td>\n",
       "      <td>0</td>\n",
       "      <td>No</td>\n",
       "      <td>No</td>\n",
       "    </tr>\n",
       "  </tbody>\n",
       "</table>\n",
       "<p>7043 rows × 5 columns</p>\n",
       "</div>"
      ],
      "text/plain": [
       "      customerID  gender  SeniorCitizen Partner Dependents\n",
       "0     7590-VHVEG  Female              0     Yes         No\n",
       "1     5575-GNVDE    Male              0      No         No\n",
       "2     3668-QPYBK    Male              0      No         No\n",
       "3     7795-CFOCW    Male              0      No         No\n",
       "4     9237-HQITU  Female              0      No         No\n",
       "...          ...     ...            ...     ...        ...\n",
       "7038  6840-RESVB    Male              0     Yes        Yes\n",
       "7039  2234-XADUH  Female              0     Yes        Yes\n",
       "7040  4801-JZAZL  Female              0     Yes        Yes\n",
       "7041  8361-LTMKD    Male              1     Yes         No\n",
       "7042  3186-AJIEK    Male              0      No         No\n",
       "\n",
       "[7043 rows x 5 columns]"
      ]
     },
     "execution_count": 11,
     "metadata": {},
     "output_type": "execute_result"
    }
   ],
   "source": [
    "personal_data"
   ]
  },
  {
   "cell_type": "code",
   "execution_count": 12,
   "metadata": {},
   "outputs": [
    {
     "name": "stdout",
     "output_type": "stream",
     "text": [
      "<class 'pandas.core.frame.DataFrame'>\n",
      "RangeIndex: 7043 entries, 0 to 7042\n",
      "Data columns (total 5 columns):\n",
      "customerID       7043 non-null object\n",
      "gender           7043 non-null object\n",
      "SeniorCitizen    7043 non-null int64\n",
      "Partner          7043 non-null object\n",
      "Dependents       7043 non-null object\n",
      "dtypes: int64(1), object(4)\n",
      "memory usage: 275.2+ KB\n"
     ]
    }
   ],
   "source": [
    "personal_data.info()"
   ]
  },
  {
   "cell_type": "markdown",
   "metadata": {},
   "source": [
    "Таблица содержит данные о поле клиента, является ли он пенсионером, есть ли дети, состоит ли в браке. Для удобства и дальнейшего обучения необходимо заменить значения 'Yes' и 'No' на '1' и '0' соответственно. Также добавим столбец с информацией об отказе от услуги."
   ]
  },
  {
   "cell_type": "code",
   "execution_count": 9,
   "metadata": {},
   "outputs": [],
   "source": [
    "# замена значений Yes и No на 1 и 0:\n",
    "for i in personal_data:\n",
    "    personal_data = (\n",
    "    personal_data\n",
    "    .where(personal_data != 'No', '0')\n",
    "    .where(personal_data != 'Yes', '1')\n",
    ")"
   ]
  },
  {
   "cell_type": "code",
   "execution_count": 10,
   "metadata": {},
   "outputs": [],
   "source": [
    "#добавление столбца number_rescind:\n",
    "personal_data=personal_data.join(pd.DataFrame(contract_data[['customerID','number_rescind']]).set_index('customerID'), on='customerID')"
   ]
  },
  {
   "cell_type": "markdown",
   "metadata": {},
   "source": [
    "#### 1.3 Обработка информации об интернет-услугах"
   ]
  },
  {
   "cell_type": "code",
   "execution_count": 15,
   "metadata": {},
   "outputs": [
    {
     "data": {
      "text/html": [
       "<div>\n",
       "<style scoped>\n",
       "    .dataframe tbody tr th:only-of-type {\n",
       "        vertical-align: middle;\n",
       "    }\n",
       "\n",
       "    .dataframe tbody tr th {\n",
       "        vertical-align: top;\n",
       "    }\n",
       "\n",
       "    .dataframe thead th {\n",
       "        text-align: right;\n",
       "    }\n",
       "</style>\n",
       "<table border=\"1\" class=\"dataframe\">\n",
       "  <thead>\n",
       "    <tr style=\"text-align: right;\">\n",
       "      <th></th>\n",
       "      <th>customerID</th>\n",
       "      <th>InternetService</th>\n",
       "      <th>OnlineSecurity</th>\n",
       "      <th>OnlineBackup</th>\n",
       "      <th>DeviceProtection</th>\n",
       "      <th>TechSupport</th>\n",
       "      <th>StreamingTV</th>\n",
       "      <th>StreamingMovies</th>\n",
       "    </tr>\n",
       "  </thead>\n",
       "  <tbody>\n",
       "    <tr>\n",
       "      <td>0</td>\n",
       "      <td>7590-VHVEG</td>\n",
       "      <td>DSL</td>\n",
       "      <td>No</td>\n",
       "      <td>Yes</td>\n",
       "      <td>No</td>\n",
       "      <td>No</td>\n",
       "      <td>No</td>\n",
       "      <td>No</td>\n",
       "    </tr>\n",
       "    <tr>\n",
       "      <td>1</td>\n",
       "      <td>5575-GNVDE</td>\n",
       "      <td>DSL</td>\n",
       "      <td>Yes</td>\n",
       "      <td>No</td>\n",
       "      <td>Yes</td>\n",
       "      <td>No</td>\n",
       "      <td>No</td>\n",
       "      <td>No</td>\n",
       "    </tr>\n",
       "    <tr>\n",
       "      <td>2</td>\n",
       "      <td>3668-QPYBK</td>\n",
       "      <td>DSL</td>\n",
       "      <td>Yes</td>\n",
       "      <td>Yes</td>\n",
       "      <td>No</td>\n",
       "      <td>No</td>\n",
       "      <td>No</td>\n",
       "      <td>No</td>\n",
       "    </tr>\n",
       "    <tr>\n",
       "      <td>3</td>\n",
       "      <td>7795-CFOCW</td>\n",
       "      <td>DSL</td>\n",
       "      <td>Yes</td>\n",
       "      <td>No</td>\n",
       "      <td>Yes</td>\n",
       "      <td>Yes</td>\n",
       "      <td>No</td>\n",
       "      <td>No</td>\n",
       "    </tr>\n",
       "    <tr>\n",
       "      <td>4</td>\n",
       "      <td>9237-HQITU</td>\n",
       "      <td>Fiber optic</td>\n",
       "      <td>No</td>\n",
       "      <td>No</td>\n",
       "      <td>No</td>\n",
       "      <td>No</td>\n",
       "      <td>No</td>\n",
       "      <td>No</td>\n",
       "    </tr>\n",
       "  </tbody>\n",
       "</table>\n",
       "</div>"
      ],
      "text/plain": [
       "   customerID InternetService OnlineSecurity OnlineBackup DeviceProtection  \\\n",
       "0  7590-VHVEG             DSL             No          Yes               No   \n",
       "1  5575-GNVDE             DSL            Yes           No              Yes   \n",
       "2  3668-QPYBK             DSL            Yes          Yes               No   \n",
       "3  7795-CFOCW             DSL            Yes           No              Yes   \n",
       "4  9237-HQITU     Fiber optic             No           No               No   \n",
       "\n",
       "  TechSupport StreamingTV StreamingMovies  \n",
       "0          No          No              No  \n",
       "1          No          No              No  \n",
       "2          No          No              No  \n",
       "3         Yes          No              No  \n",
       "4          No          No              No  "
      ]
     },
     "execution_count": 15,
     "metadata": {},
     "output_type": "execute_result"
    }
   ],
   "source": [
    "internet_data.head()"
   ]
  },
  {
   "cell_type": "code",
   "execution_count": 16,
   "metadata": {},
   "outputs": [
    {
     "name": "stdout",
     "output_type": "stream",
     "text": [
      "<class 'pandas.core.frame.DataFrame'>\n",
      "RangeIndex: 5517 entries, 0 to 5516\n",
      "Data columns (total 8 columns):\n",
      "customerID          5517 non-null object\n",
      "InternetService     5517 non-null object\n",
      "OnlineSecurity      5517 non-null object\n",
      "OnlineBackup        5517 non-null object\n",
      "DeviceProtection    5517 non-null object\n",
      "TechSupport         5517 non-null object\n",
      "StreamingTV         5517 non-null object\n",
      "StreamingMovies     5517 non-null object\n",
      "dtypes: object(8)\n",
      "memory usage: 344.9+ KB\n"
     ]
    }
   ],
   "source": [
    "internet_data.info()"
   ]
  },
  {
   "cell_type": "markdown",
   "metadata": {},
   "source": [
    "Таблица содержит информацию о подключениях: антивируса (DeviceProtection), блокировщика небезопасных сайтов (OnlineSecurity), техподдержки (TechSupport), хранилища для резервного копирования данных (OnlineBackup), cтриминговое телевидение (StreamingTV) и каталог фильмов (StreamingMovies). Пропущенных значений нет, тип данных менять не нужно. Для удобства и дальнейшего обучения необходимо заменить значения 'Yes' и 'No' на '1' и '0' соответственно. Также добавим столбец с информацией об отказе от услуги."
   ]
  },
  {
   "cell_type": "code",
   "execution_count": 11,
   "metadata": {},
   "outputs": [],
   "source": [
    "# замена значений Yes и No на 1 и 0:\n",
    "for i in internet_data:\n",
    "    internet_data = (\n",
    "    internet_data\n",
    "    .where(internet_data != 'No', '0')\n",
    "    .where(internet_data != 'Yes', '1')\n",
    ")"
   ]
  },
  {
   "cell_type": "code",
   "execution_count": 12,
   "metadata": {},
   "outputs": [],
   "source": [
    "columns=['OnlineSecurity','OnlineBackup','DeviceProtection','TechSupport','StreamingTV','StreamingMovies']"
   ]
  },
  {
   "cell_type": "code",
   "execution_count": 13,
   "metadata": {},
   "outputs": [],
   "source": [
    "for i in columns:\n",
    "    internet_data[i]=internet_data[i].astype('int')"
   ]
  },
  {
   "cell_type": "code",
   "execution_count": 14,
   "metadata": {},
   "outputs": [],
   "source": [
    "#добавление столбца number_rescind:\n",
    "internet_data=internet_data.join(pd.DataFrame(contract_data[['customerID','number_rescind']]).set_index('customerID'), on='customerID')"
   ]
  },
  {
   "cell_type": "markdown",
   "metadata": {},
   "source": [
    "#### 1.4 Обработка информации об услугах телефонии"
   ]
  },
  {
   "cell_type": "code",
   "execution_count": 21,
   "metadata": {},
   "outputs": [
    {
     "data": {
      "text/html": [
       "<div>\n",
       "<style scoped>\n",
       "    .dataframe tbody tr th:only-of-type {\n",
       "        vertical-align: middle;\n",
       "    }\n",
       "\n",
       "    .dataframe tbody tr th {\n",
       "        vertical-align: top;\n",
       "    }\n",
       "\n",
       "    .dataframe thead th {\n",
       "        text-align: right;\n",
       "    }\n",
       "</style>\n",
       "<table border=\"1\" class=\"dataframe\">\n",
       "  <thead>\n",
       "    <tr style=\"text-align: right;\">\n",
       "      <th></th>\n",
       "      <th>customerID</th>\n",
       "      <th>MultipleLines</th>\n",
       "    </tr>\n",
       "  </thead>\n",
       "  <tbody>\n",
       "    <tr>\n",
       "      <td>0</td>\n",
       "      <td>5575-GNVDE</td>\n",
       "      <td>No</td>\n",
       "    </tr>\n",
       "    <tr>\n",
       "      <td>1</td>\n",
       "      <td>3668-QPYBK</td>\n",
       "      <td>No</td>\n",
       "    </tr>\n",
       "    <tr>\n",
       "      <td>2</td>\n",
       "      <td>9237-HQITU</td>\n",
       "      <td>No</td>\n",
       "    </tr>\n",
       "    <tr>\n",
       "      <td>3</td>\n",
       "      <td>9305-CDSKC</td>\n",
       "      <td>Yes</td>\n",
       "    </tr>\n",
       "    <tr>\n",
       "      <td>4</td>\n",
       "      <td>1452-KIOVK</td>\n",
       "      <td>Yes</td>\n",
       "    </tr>\n",
       "  </tbody>\n",
       "</table>\n",
       "</div>"
      ],
      "text/plain": [
       "   customerID MultipleLines\n",
       "0  5575-GNVDE            No\n",
       "1  3668-QPYBK            No\n",
       "2  9237-HQITU            No\n",
       "3  9305-CDSKC           Yes\n",
       "4  1452-KIOVK           Yes"
      ]
     },
     "execution_count": 21,
     "metadata": {},
     "output_type": "execute_result"
    }
   ],
   "source": [
    "phone_data.head()"
   ]
  },
  {
   "cell_type": "code",
   "execution_count": 22,
   "metadata": {},
   "outputs": [
    {
     "name": "stdout",
     "output_type": "stream",
     "text": [
      "<class 'pandas.core.frame.DataFrame'>\n",
      "RangeIndex: 6361 entries, 0 to 6360\n",
      "Data columns (total 2 columns):\n",
      "customerID       6361 non-null object\n",
      "MultipleLines    6361 non-null object\n",
      "dtypes: object(2)\n",
      "memory usage: 99.5+ KB\n"
     ]
    }
   ],
   "source": [
    "phone_data.info()"
   ]
  },
  {
   "cell_type": "markdown",
   "metadata": {},
   "source": [
    "Пропущенных значений нет. Для удобства и дальнейшего обучения необходимо заменить значения 'Yes' и 'No' на '1' и '0' соответственно. Также добавим столбец с информацией об отказе от услуги."
   ]
  },
  {
   "cell_type": "code",
   "execution_count": 15,
   "metadata": {},
   "outputs": [],
   "source": [
    "# замена значений Yes и No на 1 и 0:\n",
    "phone_data['MultipleLines'] = (\n",
    "    phone_data['MultipleLines']\n",
    "    .where(phone_data['MultipleLines']!= 'No', '0')\n",
    "    .where(phone_data['MultipleLines']!= 'Yes', '1')\n",
    ")"
   ]
  },
  {
   "cell_type": "code",
   "execution_count": 16,
   "metadata": {},
   "outputs": [],
   "source": [
    "#добавление столбца number_rescind:\n",
    "phone_data=phone_data.join(pd.DataFrame(contract_data[['customerID','number_rescind']]).set_index('customerID'), on='customerID')"
   ]
  },
  {
   "cell_type": "markdown",
   "metadata": {},
   "source": [
    "# 2. Исследовательский анализ данных"
   ]
  },
  {
   "cell_type": "markdown",
   "metadata": {},
   "source": [
    "## 2.1 Изучим информацию о договорах"
   ]
  },
  {
   "cell_type": "code",
   "execution_count": 17,
   "metadata": {},
   "outputs": [],
   "source": [
    " contract_data['full_month']=(contract_data['EndDate']-contract_data['BeginDate'])"
   ]
  },
  {
   "cell_type": "code",
   "execution_count": 18,
   "metadata": {},
   "outputs": [],
   "source": [
    "contract_data['full_month']= contract_data['full_month']/ np.timedelta64(1, 'D')\n",
    "contract_data['full_month']=contract_data['full_month']/30.0\n",
    "contract_data['full_month']=contract_data['full_month'].round(1)"
   ]
  },
  {
   "cell_type": "code",
   "execution_count": 27,
   "metadata": {},
   "outputs": [
    {
     "data": {
      "text/plain": [
       "Text(0.5, 1.0, 'Средняя продолжительность действия договора')"
      ]
     },
     "execution_count": 27,
     "metadata": {},
     "output_type": "execute_result"
    },
    {
     "data": {
      "image/png": "[encoded data removed]",
      "text/plain": [
       "<Figure size 432x288 with 1 Axes>"
      ]
     },
     "metadata": {
      "needs_background": "light"
     },
     "output_type": "display_data"
    }
   ],
   "source": [
    "contract_data.pivot_table(index='number_rescind', values='full_month', aggfunc='mean').plot(kind='bar',color=plt.cm.Dark2(np.arange(len(contract_data))),legend=False)\n",
    "plt.xticks([0,1],['Оставшиеся клиенты', 'Ушедшие клиенты'])\n",
    "plt.xlabel('Осташиеся и ушедшие клиенты')\n",
    "plt.ylabel('Число месяцев')\n",
    "plt.title('Средняя продолжительность действия договора')"
   ]
  },
  {
   "cell_type": "markdown",
   "metadata": {},
   "source": [
    "Чаще всего уходят клиенты, которые пользуются услугами компании меньше 20 месяцев."
   ]
  },
  {
   "cell_type": "code",
   "execution_count": 28,
   "metadata": {},
   "outputs": [
    {
     "data": {
      "text/html": [
       "<div>\n",
       "<style scoped>\n",
       "    .dataframe tbody tr th:only-of-type {\n",
       "        vertical-align: middle;\n",
       "    }\n",
       "\n",
       "    .dataframe tbody tr th {\n",
       "        vertical-align: top;\n",
       "    }\n",
       "\n",
       "    .dataframe thead th {\n",
       "        text-align: right;\n",
       "    }\n",
       "</style>\n",
       "<table border=\"1\" class=\"dataframe\">\n",
       "  <thead>\n",
       "    <tr style=\"text-align: right;\">\n",
       "      <th></th>\n",
       "      <th>customerID</th>\n",
       "      <th>BeginDate</th>\n",
       "      <th>EndDate</th>\n",
       "      <th>Type</th>\n",
       "      <th>PaperlessBilling</th>\n",
       "      <th>PaymentMethod</th>\n",
       "      <th>MonthlyCharges</th>\n",
       "      <th>TotalCharges</th>\n",
       "      <th>number_rescind</th>\n",
       "      <th>full_month</th>\n",
       "    </tr>\n",
       "  </thead>\n",
       "  <tbody>\n",
       "    <tr>\n",
       "      <td>0</td>\n",
       "      <td>7590-VHVEG</td>\n",
       "      <td>2020-01-01</td>\n",
       "      <td>2020-02-01</td>\n",
       "      <td>Month-to-month</td>\n",
       "      <td>1</td>\n",
       "      <td>Electronic check</td>\n",
       "      <td>29.85</td>\n",
       "      <td>29.85</td>\n",
       "      <td>0</td>\n",
       "      <td>1.0</td>\n",
       "    </tr>\n",
       "    <tr>\n",
       "      <td>1</td>\n",
       "      <td>5575-GNVDE</td>\n",
       "      <td>2017-04-01</td>\n",
       "      <td>2020-02-01</td>\n",
       "      <td>One year</td>\n",
       "      <td>0</td>\n",
       "      <td>Mailed check</td>\n",
       "      <td>56.95</td>\n",
       "      <td>1889.50</td>\n",
       "      <td>0</td>\n",
       "      <td>34.5</td>\n",
       "    </tr>\n",
       "    <tr>\n",
       "      <td>2</td>\n",
       "      <td>3668-QPYBK</td>\n",
       "      <td>2019-10-01</td>\n",
       "      <td>2019-12-01</td>\n",
       "      <td>Month-to-month</td>\n",
       "      <td>1</td>\n",
       "      <td>Mailed check</td>\n",
       "      <td>53.85</td>\n",
       "      <td>108.15</td>\n",
       "      <td>1</td>\n",
       "      <td>2.0</td>\n",
       "    </tr>\n",
       "    <tr>\n",
       "      <td>3</td>\n",
       "      <td>7795-CFOCW</td>\n",
       "      <td>2016-05-01</td>\n",
       "      <td>2020-02-01</td>\n",
       "      <td>One year</td>\n",
       "      <td>0</td>\n",
       "      <td>Bank transfer (automatic)</td>\n",
       "      <td>42.30</td>\n",
       "      <td>1840.75</td>\n",
       "      <td>0</td>\n",
       "      <td>45.7</td>\n",
       "    </tr>\n",
       "    <tr>\n",
       "      <td>4</td>\n",
       "      <td>9237-HQITU</td>\n",
       "      <td>2019-09-01</td>\n",
       "      <td>2019-11-01</td>\n",
       "      <td>Month-to-month</td>\n",
       "      <td>1</td>\n",
       "      <td>Electronic check</td>\n",
       "      <td>70.70</td>\n",
       "      <td>151.65</td>\n",
       "      <td>1</td>\n",
       "      <td>2.0</td>\n",
       "    </tr>\n",
       "    <tr>\n",
       "      <td>...</td>\n",
       "      <td>...</td>\n",
       "      <td>...</td>\n",
       "      <td>...</td>\n",
       "      <td>...</td>\n",
       "      <td>...</td>\n",
       "      <td>...</td>\n",
       "      <td>...</td>\n",
       "      <td>...</td>\n",
       "      <td>...</td>\n",
       "      <td>...</td>\n",
       "    </tr>\n",
       "    <tr>\n",
       "      <td>7038</td>\n",
       "      <td>6840-RESVB</td>\n",
       "      <td>2018-02-01</td>\n",
       "      <td>2020-02-01</td>\n",
       "      <td>One year</td>\n",
       "      <td>1</td>\n",
       "      <td>Mailed check</td>\n",
       "      <td>84.80</td>\n",
       "      <td>1990.50</td>\n",
       "      <td>0</td>\n",
       "      <td>24.3</td>\n",
       "    </tr>\n",
       "    <tr>\n",
       "      <td>7039</td>\n",
       "      <td>2234-XADUH</td>\n",
       "      <td>2014-02-01</td>\n",
       "      <td>2020-02-01</td>\n",
       "      <td>One year</td>\n",
       "      <td>1</td>\n",
       "      <td>Credit card (automatic)</td>\n",
       "      <td>103.20</td>\n",
       "      <td>7362.90</td>\n",
       "      <td>0</td>\n",
       "      <td>73.0</td>\n",
       "    </tr>\n",
       "    <tr>\n",
       "      <td>7040</td>\n",
       "      <td>4801-JZAZL</td>\n",
       "      <td>2019-03-01</td>\n",
       "      <td>2020-02-01</td>\n",
       "      <td>Month-to-month</td>\n",
       "      <td>1</td>\n",
       "      <td>Electronic check</td>\n",
       "      <td>29.60</td>\n",
       "      <td>346.45</td>\n",
       "      <td>0</td>\n",
       "      <td>11.2</td>\n",
       "    </tr>\n",
       "    <tr>\n",
       "      <td>7041</td>\n",
       "      <td>8361-LTMKD</td>\n",
       "      <td>2019-07-01</td>\n",
       "      <td>2019-11-01</td>\n",
       "      <td>Month-to-month</td>\n",
       "      <td>1</td>\n",
       "      <td>Mailed check</td>\n",
       "      <td>74.40</td>\n",
       "      <td>306.60</td>\n",
       "      <td>1</td>\n",
       "      <td>4.1</td>\n",
       "    </tr>\n",
       "    <tr>\n",
       "      <td>7042</td>\n",
       "      <td>3186-AJIEK</td>\n",
       "      <td>2014-08-01</td>\n",
       "      <td>2020-02-01</td>\n",
       "      <td>Two year</td>\n",
       "      <td>1</td>\n",
       "      <td>Bank transfer (automatic)</td>\n",
       "      <td>105.65</td>\n",
       "      <td>6844.50</td>\n",
       "      <td>0</td>\n",
       "      <td>67.0</td>\n",
       "    </tr>\n",
       "  </tbody>\n",
       "</table>\n",
       "<p>7032 rows × 10 columns</p>\n",
       "</div>"
      ],
      "text/plain": [
       "      customerID  BeginDate    EndDate            Type PaperlessBilling  \\\n",
       "0     7590-VHVEG 2020-01-01 2020-02-01  Month-to-month                1   \n",
       "1     5575-GNVDE 2017-04-01 2020-02-01        One year                0   \n",
       "2     3668-QPYBK 2019-10-01 2019-12-01  Month-to-month                1   \n",
       "3     7795-CFOCW 2016-05-01 2020-02-01        One year                0   \n",
       "4     9237-HQITU 2019-09-01 2019-11-01  Month-to-month                1   \n",
       "...          ...        ...        ...             ...              ...   \n",
       "7038  6840-RESVB 2018-02-01 2020-02-01        One year                1   \n",
       "7039  2234-XADUH 2014-02-01 2020-02-01        One year                1   \n",
       "7040  4801-JZAZL 2019-03-01 2020-02-01  Month-to-month                1   \n",
       "7041  8361-LTMKD 2019-07-01 2019-11-01  Month-to-month                1   \n",
       "7042  3186-AJIEK 2014-08-01 2020-02-01        Two year                1   \n",
       "\n",
       "                  PaymentMethod  MonthlyCharges  TotalCharges  number_rescind  \\\n",
       "0              Electronic check           29.85         29.85               0   \n",
       "1                  Mailed check           56.95       1889.50               0   \n",
       "2                  Mailed check           53.85        108.15               1   \n",
       "3     Bank transfer (automatic)           42.30       1840.75               0   \n",
       "4              Electronic check           70.70        151.65               1   \n",
       "...                         ...             ...           ...             ...   \n",
       "7038               Mailed check           84.80       1990.50               0   \n",
       "7039    Credit card (automatic)          103.20       7362.90               0   \n",
       "7040           Electronic check           29.60        346.45               0   \n",
       "7041               Mailed check           74.40        306.60               1   \n",
       "7042  Bank transfer (automatic)          105.65       6844.50               0   \n",
       "\n",
       "      full_month  \n",
       "0            1.0  \n",
       "1           34.5  \n",
       "2            2.0  \n",
       "3           45.7  \n",
       "4            2.0  \n",
       "...          ...  \n",
       "7038        24.3  \n",
       "7039        73.0  \n",
       "7040        11.2  \n",
       "7041         4.1  \n",
       "7042        67.0  \n",
       "\n",
       "[7032 rows x 10 columns]"
      ]
     },
     "execution_count": 28,
     "metadata": {},
     "output_type": "execute_result"
    }
   ],
   "source": [
    "contract_data"
   ]
  },
  {
   "cell_type": "markdown",
   "metadata": {},
   "source": [
    "### 2.1.1 Анализ сезонности ухода клиентов"
   ]
  },
  {
   "cell_type": "code",
   "execution_count": 29,
   "metadata": {},
   "outputs": [],
   "source": [
    "from statsmodels.tsa.seasonal import seasonal_decompose"
   ]
  },
  {
   "cell_type": "code",
   "execution_count": 30,
   "metadata": {},
   "outputs": [],
   "source": [
    "# таблица с информацией об уходе клиентов по датам\n",
    "rescind_data=contract_data.pivot_table(index='EndDate', values='number_rescind', aggfunc='sum').query('EndDate != \"1970-01-01\"')"
   ]
  },
  {
   "cell_type": "code",
   "execution_count": 31,
   "metadata": {},
   "outputs": [
    {
     "data": {
      "text/plain": [
       "<matplotlib.axes._subplots.AxesSubplot at 0x7f510c041ed0>"
      ]
     },
     "execution_count": 31,
     "metadata": {},
     "output_type": "execute_result"
    },
    {
     "data": {
      "image/png": "[encoded data removed]",
      "text/plain": [
       "<Figure size 432x288 with 1 Axes>"
      ]
     },
     "metadata": {
      "needs_background": "light"
     },
     "output_type": "display_data"
    }
   ],
   "source": [
    "# выполним ресэмплирование данных по дням\n",
    "rescind_data=rescind_data.resample('1D').sum()\n",
    "rescind_data.plot()"
   ]
  },
  {
   "cell_type": "code",
   "execution_count": 32,
   "metadata": {},
   "outputs": [
    {
     "data": {
      "image/png": "[encoded data removed]",
      "text/plain": [
       "<Figure size 432x576 with 3 Axes>"
      ]
     },
     "metadata": {
      "needs_background": "light"
     },
     "output_type": "display_data"
    }
   ],
   "source": [
    "# посмотрим тренд и сезонность в течение всего периода наблюдений\n",
    "decomposed = seasonal_decompose(rescind_data)\n",
    "plt.figure(figsize=(6, 8))\n",
    "plt.subplot(311)\n",
    "decomposed.trend.plot(ax=plt.gca())\n",
    "plt.title('Trend')\n",
    "plt.subplot(312)\n",
    "decomposed.seasonal.plot(ax=plt.gca()) \n",
    "plt.title('Seasonality')\n",
    "plt.subplot(313)\n",
    "decomposed.resid.plot(ax=plt.gca())\n",
    "plt.title('Residuals')\n",
    "plt.tight_layout()"
   ]
  },
  {
   "cell_type": "markdown",
   "metadata": {},
   "source": [
    "Тренда нет. Договора обнуляются в первом числе месяца."
   ]
  },
  {
   "cell_type": "markdown",
   "metadata": {},
   "source": [
    "### 2.1.2 Изучим частоту отказов в зависимости от особенностей договора"
   ]
  },
  {
   "cell_type": "code",
   "execution_count": 33,
   "metadata": {},
   "outputs": [
    {
     "data": {
      "image/png": "[encoded data removed]",
      "text/plain": [
       "<Figure size 864x1008 with 4 Axes>"
      ]
     },
     "metadata": {
      "needs_background": "light"
     },
     "output_type": "display_data"
    }
   ],
   "source": [
    "\n",
    "plt.figure(figsize=(12, 14))\n",
    "plt.subplot(2, 2, 1)\n",
    "contract_data.pivot_table(index='Type', values='number_rescind', aggfunc=['count','sum']).plot(kind='bar',ax=plt.gca(),color=plt.cm.Dark2(np.arange(len(personal_data))),legend=False)\n",
    "plt.ylabel('Число клиентов')\n",
    "plt.xlabel('Тип оплаты')\n",
    "plt.title('Оставшиеся и ушедшие клиенты vs тип оплаты')\n",
    "\n",
    "plt.subplot(2, 2, 2)\n",
    "contract_data.pivot_table(index='PaperlessBilling', values='number_rescind', aggfunc=['count','sum']).plot(kind='bar', ax=plt.gca(),color=plt.cm.Dark2(np.arange(len(personal_data))),legend=False)\n",
    "plt.ylabel('Число клиентов')\n",
    "plt.xlabel('Элетронный счёт')\n",
    "plt.xticks([0,1],['Услуга отключена', 'Услуга подключена'])\n",
    "plt.title('Оставшиеся и ушедшие клиенты vs электронный чек')\n",
    "\n",
    "plt.subplot(2, 2, 3)\n",
    "contract_data.pivot_table(index='PaymentMethod', values='number_rescind', aggfunc=['count','sum']).plot(kind='bar', ax=plt.gca(),color=plt.cm.Dark2(np.arange(len(personal_data))),legend=False)\n",
    "plt.ylabel('Число клиентов')\n",
    "plt.xlabel('Способ расчёта')\n",
    "plt.title('Оставшиеся и ушедшие клиенты vs способ расчёта')\n",
    "\n",
    "plt.subplot(2, 2, 4)\n",
    "contract_data.pivot_table(index='number_rescind', values='MonthlyCharges', aggfunc='mean').plot(kind='bar', ax=plt.gca(),color=plt.cm.Dark2(np.arange(len(personal_data))),legend=False)\n",
    "plt.ylabel('Средний чек в месяц')\n",
    "plt.xlabel('Отказ от услуг')\n",
    "plt.xticks([0,1],['Оставшиеся клиенты', 'Ушедшие клиенты'])\n",
    "plt.title('Средний чек за месяц vs отказ от услуг')\n",
    "\n",
    "\n",
    "\n",
    "plt.figlegend(['Число оставшихся клиентов','Число ушедших клиентов'], loc = 'upper center', bbox_to_anchor=(0.5, 1.05))\n",
    "plt.tight_layout()"
   ]
  },
  {
   "cell_type": "markdown",
   "metadata": {},
   "source": [
    "<div>1. Клиенты, которые платят каждый месяц, чаще всего отказываются от услуг.</div>\n",
    "<div>2. Большая часть клиетов запрашивает электронный счёт. При этом, именно такие клиенты чаще отказываются от обслуживания.</div>\n",
    "<div>3. Большая часть клиентов оплачивает счёт через eCheck, и они чаще отказываются от обслуживания. Клиентов, использующих другие способы оплаты меньше, но они значительно реже отказываются от обслуживания.</div>\n",
    "<div>4. Чаще всего отказываются от обслуживания клиенты, у которых высокий ежемесячный счёт. </div>"
   ]
  },
  {
   "cell_type": "markdown",
   "metadata": {},
   "source": [
    "## 2.2 Изучим информацию о персональных данныx"
   ]
  },
  {
   "cell_type": "code",
   "execution_count": 34,
   "metadata": {},
   "outputs": [
    {
     "data": {
      "text/plain": [
       "<matplotlib.legend.Legend at 0x7f5109777e50>"
      ]
     },
     "execution_count": 34,
     "metadata": {},
     "output_type": "execute_result"
    },
    {
     "data": {
      "image/png": "[encoded data removed]",
      "text/plain": [
       "<Figure size 720x720 with 4 Axes>"
      ]
     },
     "metadata": {
      "needs_background": "light"
     },
     "output_type": "display_data"
    }
   ],
   "source": [
    "\n",
    "plt.figure(figsize=(10, 10))\n",
    "plt.subplot(2, 2, 1)\n",
    "personal_data.pivot_table(index='gender', values='number_rescind', aggfunc=['count','sum']).plot(kind='bar',ax=plt.gca(),legend=False,\n",
    "                                                                                                color=plt.cm.Dark2(np.arange(len(personal_data))))\n",
    "plt.ylabel('Число клиентов')\n",
    "plt.xlabel('Пол')\n",
    "plt.title('Оставшиеся и ушедшие клиенты vs пол')\n",
    "\n",
    "plt.subplot(2, 2, 2)\n",
    "personal_data.pivot_table(index='SeniorCitizen', values='number_rescind', aggfunc=['count','sum']).plot(kind='bar', ax=plt.gca(),                                                                                                     color=plt.cm.Dark2(np.arange(len(personal_data))),legend=False)\n",
    "plt.ylabel('Число клиентов')\n",
    "plt.xlabel('Пенсионный возраст')\n",
    "plt.xticks([0,1],['Не пенсионер', 'Пенсионер'])\n",
    "plt.title('Оставшиеся и ушедшие клиенты vs пенсионный возраст')\n",
    "\n",
    "plt.subplot(2, 2, 3)\n",
    "personal_data.pivot_table(index='Partner', values='number_rescind', aggfunc=['count','sum']).plot(kind='bar', ax=plt.gca(),\n",
    "                                                                                                  color=plt.cm.Dark2(np.arange(len(personal_data))),legend=False)\n",
    "plt.ylabel('Число клиентов')\n",
    "plt.xlabel('Семейное положение')\n",
    "plt.xticks([0,1],['Не в браке', 'В браке'])\n",
    "plt.title('Оставшиеся и ушедшие клиенты vs семейный статус')\n",
    "\n",
    "plt.subplot(2, 2, 4)\n",
    "personal_data.pivot_table(index='Dependents', values='number_rescind', aggfunc=['count','sum']).plot(kind='bar', ax=plt.gca(),                                                                                                    color=plt.cm.Dark2(np.arange(len(personal_data))),legend=False)\n",
    "plt.ylabel('Число клиентов')\n",
    "plt.xlabel('Наличие детей')\n",
    "plt.xticks([0,1],['Есть дети', 'Нет детей'])\n",
    "plt.title('Оставшиеся и ушедшие клиенты vs финансовая зависимость')\n",
    "\n",
    "plt.tight_layout()\n",
    "plt.figlegend(['Число оставшихся клиентов','Число ушедших клиентов'], loc = 'upper center', bbox_to_anchor=(0.5, 1.05))"
   ]
  },
  {
   "cell_type": "markdown",
   "metadata": {},
   "source": [
    "Женщины и мужчины в равной степени отказываются от услуг. Пенсионеры, неженатые и лица с финансовой независимостью ,чаще расторгают договор."
   ]
  },
  {
   "cell_type": "markdown",
   "metadata": {},
   "source": [
    "## 2.3 Изучим информацию об интернет услугах"
   ]
  },
  {
   "cell_type": "markdown",
   "metadata": {},
   "source": [
    "### 2.3.1 Сравним популярность дополнительных интернет услуг"
   ]
  },
  {
   "cell_type": "code",
   "execution_count": 35,
   "metadata": {},
   "outputs": [
    {
     "data": {
      "text/plain": [
       "Text(0.5, 1.0, 'Частота подлючения дополнительных услуг среди оставшихся и ушедших клиентов')"
      ]
     },
     "execution_count": 35,
     "metadata": {},
     "output_type": "execute_result"
    },
    {
     "data": {
      "image/png": "[encoded data removed]",
      "text/plain": [
       "<Figure size 432x288 with 1 Axes>"
      ]
     },
     "metadata": {
      "needs_background": "light"
     },
     "output_type": "display_data"
    }
   ],
   "source": [
    "# график числа подключений дополнительных интернет-услуг и отказа от облуживания \n",
    "internet_data.pivot_table(index='number_rescind',values=['InternetService','OnlineSecurity','OnlineBackup',\n",
    "                                                         'DeviceProtection','TechSupport','StreamingTV','StreamingMovies'], \n",
    "                                                      aggfunc='sum').plot(kind='bar')\n",
    "plt.xlabel('Подключение и отказ')\n",
    "plt.ylabel('Число оставшихся и ушедших клиентов')\n",
    "plt.xticks([0,1],['Клиенты оставшиеся', 'Ушедшие клиенты'])\n",
    "plt.title('Частота подлючения дополнительных услуг среди оставшихся и ушедших клиентов')"
   ]
  },
  {
   "cell_type": "markdown",
   "metadata": {},
   "source": [
    "Клиенты, которые не отказались от обслуживания немного чаще подлючают каталог фильмов, стриминговое телевидение, резервное копирование данных и антивирус. Реже подключают услуги техподдержки и блокировку небезопасных сайтов. Но разница в числе подлючений этих услуг не такая значительная, как в группе клиентов, отказавшихся от обслуживания. Чаще всего от обслуживания отказываются клиенты, подключившие каталог фильмов и стримминговое телевидение. В 1.3 раза реже отказываются клиенты, подключившие антивирус и резервное копирвание. И в 3 раза реже отказываются клиенты, подключившие техподдержку и блокировку небезопасных сайтов."
   ]
  },
  {
   "cell_type": "markdown",
   "metadata": {},
   "source": [
    "### 2.3.2 Сравнение популярности услуг для разных типов подключения интернета"
   ]
  },
  {
   "cell_type": "code",
   "execution_count": 36,
   "metadata": {},
   "outputs": [
    {
     "data": {
      "text/plain": [
       "Text(0.5, 1.0, 'Подключение дополнительных услуг для различных типов подключения интернета')"
      ]
     },
     "execution_count": 36,
     "metadata": {},
     "output_type": "execute_result"
    },
    {
     "data": {
      "image/png": "[encoded data removed]",
      "text/plain": [
       "<Figure size 720x432 with 1 Axes>"
      ]
     },
     "metadata": {
      "needs_background": "light"
     },
     "output_type": "display_data"
    }
   ],
   "source": [
    "\n",
    "internet_service=internet_data.pivot_table(index='InternetService',values=['OnlineSecurity','OnlineBackup',\n",
    "                                                         'DeviceProtection','TechSupport','StreamingTV','StreamingMovies'],\n",
    "                           aggfunc='sum')\n",
    "plt.figure(figsize=(10, 6))           \n",
    "internet_service.plot(kind='bar', legend=False,ax=plt.gca())\n",
    "plt.legend(loc='center left', bbox_to_anchor=(1.0, 0.5))\n",
    "plt.xlabel('Тип подключения интернета')\n",
    "plt.ylabel('Число клиентов с доп. услугами')\n",
    "plt.title('Подключение дополнительных услуг для различных типов подключения интернета')"
   ]
  },
  {
   "cell_type": "markdown",
   "metadata": {},
   "source": [
    "У клиентов, подключенных через телефонную линию, разница в частоте использования различных дополнительных услуг невелика. Немного чаще подключают блокировку небезопасных сайтов и техническую поддержку, реже всего стримминговое телевидение и каталог фильмов. У клиентов, подлюченных через оптоволоконный кабель наблюдается большой разброс в частоте использования дополнительных услуг. Такие клиенты наоборот, чаще подключают стримминговое телевидение и каталог фильмов и реже всего блокировку небезопасных сайтов и техническую поддержку."
   ]
  },
  {
   "cell_type": "markdown",
   "metadata": {},
   "source": [
    "### 2.3.3 Изучим частоту отказов при использованнии различных доп. услуг"
   ]
  },
  {
   "cell_type": "code",
   "execution_count": 37,
   "metadata": {},
   "outputs": [
    {
     "data": {
      "image/png": "[encoded data removed]",
      "text/plain": [
       "<Figure size 1008x1296 with 7 Axes>"
      ]
     },
     "metadata": {
      "needs_background": "light"
     },
     "output_type": "display_data"
    }
   ],
   "source": [
    "\n",
    "plt.figure(figsize=(14, 18))\n",
    "\n",
    "plt.subplot(4, 2, 1)\n",
    "internet_data_2=internet_data.pivot_table(index='InternetService', values='number_rescind', aggfunc=['count','sum']).plot(kind='bar',ax=plt.gca(),\n",
    "                                                                                                          color=plt.cm.Dark2(np.arange(len(personal_data))),legend=False)\n",
    "plt.ylabel('Число клиентов')\n",
    "plt.xlabel('Тип подключения')\n",
    "plt.title('Оставшиеся и ушедшие клиенты  vs тип подключения')\n",
    "\n",
    "plt.subplot(4, 2, 2)\n",
    "internet_data.pivot_table(index='OnlineSecurity', values='number_rescind', aggfunc=['count','sum']).plot(kind='bar', ax=plt.gca(),color=plt.cm.Dark2(np.arange(len(personal_data))),legend=False)\n",
    "plt.ylabel('Число клиентов')\n",
    "plt.xlabel('безопасность')\n",
    "plt.xticks([0,1],['Услуга отключена', 'Услуга подключена'])\n",
    "plt.title('Оставшиеся и ушедшие клиенты  vs Безопасноть')\n",
    "\n",
    "plt.subplot(4, 2, 3)\n",
    "internet_data.pivot_table(index='OnlineBackup', values='number_rescind', aggfunc=['count','sum']).plot(kind='bar', ax=plt.gca(),color=plt.cm.Dark2(np.arange(len(personal_data))),legend=False)\n",
    "plt.ylabel('Число клиентов')\n",
    "plt.xlabel('Резервное хранилище')\n",
    "plt.xticks([0,1],['Услуга отключена', 'Услуга подключена'])\n",
    "plt.title('Оставшиеся и ушедшие клиенты  vs резервное хранилище')\n",
    "\n",
    "plt.subplot(4, 2, 4)\n",
    "internet_data.pivot_table(index='DeviceProtection', values='number_rescind', aggfunc=['count','sum']).plot(kind='bar', ax=plt.gca(),color=plt.cm.Dark2(np.arange(len(personal_data))),legend=False)\n",
    "plt.ylabel('Число клиентов')\n",
    "plt.xlabel('Антивирус')\n",
    "plt.xticks([0,1],['Услуга отключена', 'Услуга подключена'])\n",
    "plt.title('Оставшиеся и ушедшие клиенты  vs антивирус')\n",
    "\n",
    "plt.subplot(4, 2, 5)\n",
    "internet_data.pivot_table(index='TechSupport', values='number_rescind', aggfunc=['count','sum']).plot(kind='bar', ax=plt.gca(),color=plt.cm.Dark2(np.arange(len(personal_data))),legend=False)\n",
    "plt.ylabel('Число клиентов')\n",
    "plt.xlabel('Техподдержка')\n",
    "plt.xticks([0,1],['Услуга отключена', 'Услуга подключена'])\n",
    "plt.title('Оставшиеся и ушедшие клиенты  vs техподдержка')\n",
    "\n",
    "plt.subplot(4, 2, 6)\n",
    "internet_data.pivot_table(index='StreamingTV', values='number_rescind', aggfunc=['count','sum']).plot(kind='bar', ax=plt.gca(),color=plt.cm.Dark2(np.arange(len(personal_data))),legend=False)\n",
    "plt.ylabel('Число клиентов')\n",
    "plt.xlabel('Стриминговое телевидение')\n",
    "plt.xticks([0,1],['Услуга отключена', 'Услуга подключена'])\n",
    "plt.title('Оставшиеся и ушедшие клиенты  vs Стриминговое телевидение')\n",
    "\n",
    "plt.subplot(4, 2, 7)\n",
    "internet_data.pivot_table(index='StreamingMovies', values='number_rescind', aggfunc=['count','sum']).plot(kind='bar', ax=plt.gca(),color=plt.cm.Dark2(np.arange(len(personal_data))),legend=False)\n",
    "plt.ylabel('Число клиентов')\n",
    "plt.xlabel('Каталог фильмов')\n",
    "plt.xticks([0,1],['Услуга отключена', 'Услуга подключена'])\n",
    "plt.title('Оставшиеся и ушедшие клиенты vs Каталог фильмов')\n",
    "plt.figlegend(['Число оставшихся клиентов','Число ушедших клиентов'], loc = 'upper center', bbox_to_anchor=(0.5, 1.05))\n",
    "plt.tight_layout()"
   ]
  },
  {
   "cell_type": "markdown",
   "metadata": {},
   "source": [
    "Клиенты, подключенные через оптоволоконный кабель чаще отказываются от услуг. Клиенты, у которых подлючены такие услуги как: безопасность, техподдержка, стриминговое телевидение и резервное хранилище  реже отказываются от подключения. При этом подключение стримингового телевидения и каталога фильмов слабо влияет на решение об отключении."
   ]
  },
  {
   "cell_type": "markdown",
   "metadata": {},
   "source": [
    "## 2.4 Изучим  информацию об услугах телефонии"
   ]
  },
  {
   "cell_type": "code",
   "execution_count": 38,
   "metadata": {},
   "outputs": [
    {
     "data": {
      "text/plain": [
       "Text(0.5, 1.0, 'Число отказов vs мультителефония')"
      ]
     },
     "execution_count": 38,
     "metadata": {},
     "output_type": "execute_result"
    },
    {
     "data": {
      "image/png": "[encoded data removed]",
      "text/plain": [
       "<Figure size 432x288 with 1 Axes>"
      ]
     },
     "metadata": {
      "needs_background": "light"
     },
     "output_type": "display_data"
    }
   ],
   "source": [
    "phone_data.pivot_table(index='MultipleLines',values='number_rescind', aggfunc=['count','sum']).plot(kind='bar', color=plt.cm.Dark2(np.arange(len(personal_data))), legend=False)\n",
    "plt.ylabel('Число подключений и отказов')\n",
    "plt.xlabel('Мультителефония')\n",
    "plt.xticks([0,1],['Несколько линий', 'Одна линия'])\n",
    "plt.figlegend(['Число оставшихся клиентов','Число ушедших клиентов'], loc = 'upper center', bbox_to_anchor=(0.5, 1.5))\n",
    "plt.title('Число отказов vs мультителефония')"
   ]
  },
  {
   "cell_type": "markdown",
   "metadata": {},
   "source": [
    "Клиенты, подключившие одну телефонную линию немного чаще отказываются от услуг."
   ]
  },
  {
   "cell_type": "markdown",
   "metadata": {},
   "source": [
    "## Выводы"
   ]
  },
  {
   "cell_type": "markdown",
   "metadata": {},
   "source": [
    "1. Максимальная средняя продолжительность использования услуг компании среди ушедших клиентов- 20 месяцев. Средний ежемесячный чек ушедших клиентов больше, чем у оставшихся, возможно поэтому такие клиенты чаще отказываются от услуг.\n",
    "2. Хотя клиентов пенсионного возраста меньше, чем до пенсионного, они в 2 раза чаще отказываются от услуг. Также поступают клиенты не состоящие в отношениях и самостоятельно распоряжающиеся финансами. Таким клиентам можно предлагать скидку.\n",
    "3. Клиенты чаще подключают телевидение и каталог фильмов, но такие клиенты чаще отказываются от обслуживания. При этом другие дополнительные услуги подключаются реже, но и клиенты их использующие реже расторгают договор.\n",
    "4. Клиенты использующие одну телефонную линию также чаще отказываются от обслуживания, чем клиенты мультителефонии.\n",
    "5. Непонятно, почему клиенты чаще использующие популярные услуги чаще уходят.\n"
   ]
  },
  {
   "cell_type": "markdown",
   "metadata": {},
   "source": [
    "# 3 Обучение модели"
   ]
  },
  {
   "cell_type": "markdown",
   "metadata": {},
   "source": [
    "## 3.1 Подготовка итоговой таблицы признаков."
   ]
  },
  {
   "cell_type": "markdown",
   "metadata": {},
   "source": [
    "Соединим 4 исходные таблицы по стоблцу \"customerID\". Удалим столбцы:'customerID','BeginDate','EndDate', так как ID клиентов не влияет на целевой признак, а в датах интересна продолжительность использования ислуг, которая записана в столбце 'full_month'."
   ]
  },
  {
   "cell_type": "code",
   "execution_count": 19,
   "metadata": {},
   "outputs": [],
   "source": [
    "# создание итоговой таблицы\n",
    "all_data = pd.merge(contract_data,personal_data.drop('number_rescind',axis=1), on=\"customerID\")\n",
    "all_data=all_data.join(internet_data.drop('number_rescind',axis=1).set_index('customerID'), on='customerID')\n",
    "all_data=all_data.join(phone_data.drop('number_rescind',axis=1).set_index('customerID'), on='customerID')"
   ]
  },
  {
   "cell_type": "code",
   "execution_count": 20,
   "metadata": {},
   "outputs": [],
   "source": [
    "# удаление неважных признаков\n",
    "all_data=all_data.drop(['customerID','BeginDate','EndDate'], axis=1)"
   ]
  },
  {
   "cell_type": "code",
   "execution_count": 21,
   "metadata": {},
   "outputs": [
    {
     "name": "stdout",
     "output_type": "stream",
     "text": [
      "<class 'pandas.core.frame.DataFrame'>\n",
      "Int64Index: 7032 entries, 0 to 7031\n",
      "Data columns (total 19 columns):\n",
      "Type                7032 non-null object\n",
      "PaperlessBilling    7032 non-null object\n",
      "PaymentMethod       7032 non-null object\n",
      "MonthlyCharges      7032 non-null float64\n",
      "TotalCharges        7032 non-null float64\n",
      "number_rescind      7032 non-null int64\n",
      "full_month          7032 non-null float64\n",
      "gender              7032 non-null object\n",
      "SeniorCitizen       7032 non-null int64\n",
      "Partner             7032 non-null object\n",
      "Dependents          7032 non-null object\n",
      "InternetService     5512 non-null object\n",
      "OnlineSecurity      5512 non-null float64\n",
      "OnlineBackup        5512 non-null float64\n",
      "DeviceProtection    5512 non-null float64\n",
      "TechSupport         5512 non-null float64\n",
      "StreamingTV         5512 non-null float64\n",
      "StreamingMovies     5512 non-null float64\n",
      "MultipleLines       6352 non-null object\n",
      "dtypes: float64(9), int64(2), object(8)\n",
      "memory usage: 1.1+ MB\n"
     ]
    }
   ],
   "source": [
    "all_data.info()"
   ]
  },
  {
   "cell_type": "code",
   "execution_count": 22,
   "metadata": {},
   "outputs": [],
   "source": [
    "# заполняем пропущенные значения для неподключенных телефонных и интернет услуг\n",
    "for i in ['OnlineSecurity','OnlineBackup','DeviceProtection','TechSupport','StreamingTV','StreamingMovies']:\n",
    "    all_data[i]=all_data[i].fillna('not_attach').astype('object')\n",
    "    \n",
    "all_data['InternetService']=all_data['InternetService'].fillna('not_attach')\n",
    "all_data['MultipleLines']=all_data['MultipleLines'].fillna('not_attach')    "
   ]
  },
  {
   "cell_type": "markdown",
   "metadata": {},
   "source": [
    "## 3.2 Подготовка признаков."
   ]
  },
  {
   "cell_type": "code",
   "execution_count": 23,
   "metadata": {},
   "outputs": [],
   "source": [
    "# Преобразуем категориальные данные в количественные техникой прямого кодирования\n",
    "data_all_dum = pd.get_dummies(all_data, drop_first=True)"
   ]
  },
  {
   "cell_type": "code",
   "execution_count": 44,
   "metadata": {},
   "outputs": [],
   "source": [
    "from sklearn.model_selection import train_test_split"
   ]
  },
  {
   "cell_type": "code",
   "execution_count": 45,
   "metadata": {},
   "outputs": [],
   "source": [
    "# разделяем данные на обучающую и тестовую выборки\n",
    "data_train_valid, data_test= train_test_split(data_all_dum, test_size=0.2, random_state=12345) "
   ]
  },
  {
   "cell_type": "code",
   "execution_count": 46,
   "metadata": {},
   "outputs": [],
   "source": [
    "#разделяем  на обучающую и валидационную выборки\n",
    "data_train, data_valid = train_test_split(data_train_valid, test_size=0.25, random_state=12345)"
   ]
  },
  {
   "cell_type": "code",
   "execution_count": 47,
   "metadata": {},
   "outputs": [
    {
     "data": {
      "text/plain": [
       "(4218, 30)"
      ]
     },
     "execution_count": 47,
     "metadata": {},
     "output_type": "execute_result"
    }
   ],
   "source": [
    "# размер обучающей выборки\n",
    "data_train.shape"
   ]
  },
  {
   "cell_type": "code",
   "execution_count": 48,
   "metadata": {},
   "outputs": [
    {
     "data": {
      "text/plain": [
       "(1407, 30)"
      ]
     },
     "execution_count": 48,
     "metadata": {},
     "output_type": "execute_result"
    }
   ],
   "source": [
    "# размер валидационной выборки\n",
    "data_valid.shape"
   ]
  },
  {
   "cell_type": "code",
   "execution_count": 49,
   "metadata": {},
   "outputs": [
    {
     "data": {
      "text/plain": [
       "(1407, 30)"
      ]
     },
     "execution_count": 49,
     "metadata": {},
     "output_type": "execute_result"
    }
   ],
   "source": [
    "# размер тестовой выборки\n",
    "data_test.shape"
   ]
  },
  {
   "cell_type": "code",
   "execution_count": 50,
   "metadata": {},
   "outputs": [
    {
     "name": "stdout",
     "output_type": "stream",
     "text": [
      "0    0.737316\n",
      "1    0.262684\n",
      "Name: number_rescind, dtype: float64\n"
     ]
    },
    {
     "data": {
      "text/plain": [
       "([<matplotlib.axis.XTick at 0x7f51012eaf10>,\n",
       "  <matplotlib.axis.XTick at 0x7f51012ea590>],\n",
       " <a list of 2 Text xticklabel objects>)"
      ]
     },
     "execution_count": 50,
     "metadata": {},
     "output_type": "execute_result"
    },
    {
     "data": {
      "image/png": "[encoded data removed]",
      "text/plain": [
       "<Figure size 432x288 with 1 Axes>"
      ]
     },
     "metadata": {
      "needs_background": "light"
     },
     "output_type": "display_data"
    }
   ],
   "source": [
    "# проверим частоту 1 и 0 у целевого признака\n",
    "class_frequency = data_train['number_rescind'].value_counts(normalize=True)\n",
    "print(class_frequency)\n",
    "class_frequency.plot(kind='bar', color=plt.cm.Dark2(np.arange(len(personal_data))))\n",
    "plt.ylabel('Частота')\n",
    "plt.xlabel('Целевой признак')\n",
    "plt.xticks([0,1],['Клиет остался', 'Клиет ушёл'])"
   ]
  },
  {
   "cell_type": "markdown",
   "metadata": {},
   "source": [
    "В обучающей выборке наблюдается дисбланс классов, устраним его."
   ]
  },
  {
   "cell_type": "code",
   "execution_count": 51,
   "metadata": {},
   "outputs": [],
   "source": [
    "# обучающая выборка\n",
    "features_train=data_train.drop(['number_rescind',], axis=1)\n",
    "target_train=data_train['number_rescind']\n",
    "# валидационная выборка\n",
    "features_valid=data_valid.drop(['number_rescind'], axis=1)\n",
    "target_valid=data_valid['number_rescind']\n",
    "# тестовая выборка\n",
    "features_test=data_test.drop(['number_rescind'], axis=1)\n",
    "target_test=data_test['number_rescind']"
   ]
  },
  {
   "cell_type": "code",
   "execution_count": 52,
   "metadata": {},
   "outputs": [],
   "source": [
    "from sklearn.utils import shuffle\n",
    "# Техникой upsampling сделаем объекты редкого класса более частыми\n",
    "def upsample(features, target, repeat):\n",
    "    features_zeros = features[target == 0]\n",
    "    features_ones = features[target == 1]\n",
    "    target_zeros = target[target == 0]\n",
    "    target_ones = target[target == 1]\n",
    "    features_upsampled = pd.concat([features_zeros] + [features_ones] * repeat)\n",
    "    target_upsampled = pd.concat([target_zeros] + [target_ones] * repeat)\n",
    "\n",
    "    features_upsampled, target_upsampled = shuffle(features_upsampled, target_upsampled, random_state=12345)\n",
    "    return features_upsampled, target_upsampled"
   ]
  },
  {
   "cell_type": "code",
   "execution_count": 53,
   "metadata": {},
   "outputs": [],
   "source": [
    "features_upsampled, target_upsampled = upsample(features_train, target_train,3)\n"
   ]
  },
  {
   "cell_type": "code",
   "execution_count": 54,
   "metadata": {},
   "outputs": [
    {
     "name": "stdout",
     "output_type": "stream",
     "text": [
      "1    0.51663\n",
      "0    0.48337\n",
      "Name: number_rescind, dtype: float64\n"
     ]
    },
    {
     "data": {
      "text/plain": [
       "([<matplotlib.axis.XTick at 0x7f51012872d0>,\n",
       "  <matplotlib.axis.XTick at 0x7f510127a990>],\n",
       " <a list of 2 Text xticklabel objects>)"
      ]
     },
     "execution_count": 54,
     "metadata": {},
     "output_type": "execute_result"
    },
    {
     "data": {
      "image/png": "[encoded data removed]",
      "text/plain": [
       "<Figure size 432x288 with 1 Axes>"
      ]
     },
     "metadata": {
      "needs_background": "light"
     },
     "output_type": "display_data"
    }
   ],
   "source": [
    "class_frequency = target_upsampled.value_counts(normalize=True)\n",
    "print(class_frequency)\n",
    "class_frequency.plot(kind='bar', color=plt.cm.Dark2(np.arange(len(personal_data)))) \n",
    "plt.ylabel('Частота')\n",
    "plt.xlabel('Целевой признак')\n",
    "plt.xticks([0,1],['Клиент остался', 'Клиент ушёл'])"
   ]
  },
  {
   "cell_type": "markdown",
   "metadata": {},
   "source": [
    "## 3.2 Обучение модели DecisionTreeClassifier"
   ]
  },
  {
   "cell_type": "code",
   "execution_count": 55,
   "metadata": {},
   "outputs": [],
   "source": [
    "from sklearn.tree import DecisionTreeClassifier\n",
    "from sklearn.metrics import accuracy_score\n",
    "from sklearn.metrics import roc_auc_score"
   ]
  },
  {
   "cell_type": "code",
   "execution_count": 56,
   "metadata": {},
   "outputs": [
    {
     "data": {
      "text/plain": [
       "<matplotlib.axes._subplots.AxesSubplot at 0x7f50fea9b290>"
      ]
     },
     "execution_count": 56,
     "metadata": {},
     "output_type": "execute_result"
    },
    {
     "data": {
      "image/png": "[encoded data removed]",
      "text/plain": [
       "<Figure size 432x288 with 1 Axes>"
      ]
     },
     "metadata": {
      "needs_background": "light"
     },
     "output_type": "display_data"
    }
   ],
   "source": [
    "# подбор гиперпараметра depth\n",
    "best_param = []\n",
    "i=0\n",
    "param=[]\n",
    "for depth in range(1,20):\n",
    "    model_tree =DecisionTreeClassifier(random_state=12345, max_depth= depth)\n",
    "    model_tree.fit(features_upsampled, target_upsampled)\n",
    "    predict_valid=model_tree.predict(features_valid)\n",
    "    probabilities_valid_tree = model_tree.predict_proba(features_valid)\n",
    "    probabilities_valid_tree = probabilities_valid_tree[:, 1]\n",
    "    accuracy= accuracy_score(target_valid,predict_valid)\n",
    "    ROC_AUC = roc_auc_score(target_valid, probabilities_valid_tree)\n",
    "    param.append({'ROC-AUC':ROC_AUC, 'max_depth':depth })\n",
    "    \n",
    "    if ROC_AUC >i:\n",
    "                best_param=[]\n",
    "                best_param.append({'ROC-AUC':ROC_AUC})\n",
    "                best_param.append({'accuracy':accuracy})\n",
    "                best_param.append({'max_depth':depth})\n",
    "                \n",
    "                i=ROC_AUC\n",
    "\n",
    "data=pd.DataFrame(param,columns =['max_depth', 'ROC-AUC'])     \n",
    "data.plot(x='max_depth', y='ROC-AUC')"
   ]
  },
  {
   "cell_type": "code",
   "execution_count": 57,
   "metadata": {},
   "outputs": [
    {
     "data": {
      "text/plain": [
       "[{'ROC-AUC': 0.8411592906247912},\n",
       " {'accuracy': 0.7455579246624022},\n",
       " {'max_depth': 6}]"
      ]
     },
     "execution_count": 57,
     "metadata": {},
     "output_type": "execute_result"
    }
   ],
   "source": [
    "best_param"
   ]
  },
  {
   "cell_type": "code",
   "execution_count": 58,
   "metadata": {},
   "outputs": [],
   "source": [
    "model_tree=DecisionTreeClassifier(random_state=12345, max_depth=6)"
   ]
  },
  {
   "cell_type": "code",
   "execution_count": 59,
   "metadata": {},
   "outputs": [
    {
     "data": {
      "text/plain": [
       "DecisionTreeClassifier(class_weight=None, criterion='gini', max_depth=6,\n",
       "                       max_features=None, max_leaf_nodes=None,\n",
       "                       min_impurity_decrease=0.0, min_impurity_split=None,\n",
       "                       min_samples_leaf=1, min_samples_split=2,\n",
       "                       min_weight_fraction_leaf=0.0, presort=False,\n",
       "                       random_state=12345, splitter='best')"
      ]
     },
     "execution_count": 59,
     "metadata": {},
     "output_type": "execute_result"
    }
   ],
   "source": [
    "model_tree.fit(features_upsampled, target_upsampled)"
   ]
  },
  {
   "cell_type": "code",
   "execution_count": 60,
   "metadata": {},
   "outputs": [
    {
     "name": "stdout",
     "output_type": "stream",
     "text": [
      "Accuracy модели DecisionTree = 0.75\n"
     ]
    }
   ],
   "source": [
    "predict_valid_tree=model_tree.predict(features_valid)\n",
    "Accuracy_tree_valid=print(\"Accuracy модели DecisionTree =\", '{:.2f}'.format(accuracy_score(target_valid,predict_valid_tree)))\n",
    "Accuracy_tree_valid=accuracy_score(target_valid,predict_valid_tree)"
   ]
  },
  {
   "cell_type": "code",
   "execution_count": 61,
   "metadata": {},
   "outputs": [
    {
     "name": "stdout",
     "output_type": "stream",
     "text": [
      "AUC-ROC модели DecisionTree= 0.84\n"
     ]
    }
   ],
   "source": [
    "probabilities_valid_tree = model_tree.predict_proba(features_valid)\n",
    "probabilities_valid_tree = probabilities_valid_tree[:, 1]\n",
    "AUC_ROC_tree_valid=print(\"AUC-ROC модели DecisionTree=\",'{:.2f}'.format(roc_auc_score(target_valid, probabilities_valid_tree)))\n",
    "AUC_ROC_tree_valid=roc_auc_score(target_valid, probabilities_valid_tree)"
   ]
  },
  {
   "cell_type": "markdown",
   "metadata": {},
   "source": [
    "## 3.3 Обучение модели RandomForestClassifier"
   ]
  },
  {
   "cell_type": "code",
   "execution_count": 62,
   "metadata": {},
   "outputs": [],
   "source": [
    "from sklearn.ensemble import RandomForestClassifier"
   ]
  },
  {
   "cell_type": "code",
   "execution_count": 63,
   "metadata": {},
   "outputs": [
    {
     "name": "stdout",
     "output_type": "stream",
     "text": [
      "estimators = 10 : depth = 3 : accuracy = 0.7341862117981521\n",
      "ROC-AUC = 0.8414086723124625\n",
      "estimators = 10 : depth = 6 : accuracy = 0.7491115849324804\n",
      "ROC-AUC = 0.8528365238763683\n",
      "estimators = 10 : depth = 9 : accuracy = 0.7668798862828714\n",
      "ROC-AUC = 0.8542762532072542\n",
      "estimators = 50 : depth = 3 : accuracy = 0.7164179104477612\n",
      "ROC-AUC = 0.84925519716579\n",
      "estimators = 50 : depth = 6 : accuracy = 0.744136460554371\n",
      "ROC-AUC = 0.8569358960515424\n",
      "estimators = 50 : depth = 9 : accuracy = 0.767590618336887\n",
      "ROC-AUC = 0.8561183354672179\n",
      "estimators = 90 : depth = 3 : accuracy = 0.7121535181236673\n",
      "ROC-AUC = 0.8484646315064197\n",
      "estimators = 90 : depth = 6 : accuracy = 0.744136460554371\n",
      "ROC-AUC = 0.8574835073863257\n",
      "estimators = 90 : depth = 9 : accuracy = 0.7661691542288557\n",
      "ROC-AUC = 0.8572598351509917\n",
      "estimators = 130 : depth = 3 : accuracy = 0.7100213219616205\n",
      "ROC-AUC = 0.8479375877335061\n",
      "estimators = 130 : depth = 6 : accuracy = 0.7455579246624022\n",
      "ROC-AUC = 0.8580542572282124\n",
      "estimators = 130 : depth = 9 : accuracy = 0.7718550106609808\n",
      "ROC-AUC = 0.8582830713540139\n",
      "estimators = 170 : depth = 3 : accuracy = 0.7142857142857143\n",
      "ROC-AUC = 0.8483283714090322\n",
      "estimators = 170 : depth = 6 : accuracy = 0.7484008528784648\n",
      "ROC-AUC = 0.8579899835973694\n",
      "estimators = 170 : depth = 9 : accuracy = 0.7704335465529495\n",
      "ROC-AUC = 0.8587098482628123\n"
     ]
    }
   ],
   "source": [
    "# Подбираем гиперпараметр estimators и depth\n",
    "best_param = []\n",
    "i = 0\n",
    "for estimators in range(10,200,40):\n",
    "    for depth in range(3,12,3):\n",
    "        model_forest =RandomForestClassifier(random_state=12345,  max_depth=depth, n_estimators=estimators)\n",
    "        model_forest.fit(features_upsampled, target_upsampled)\n",
    "        predict_valid=model_forest.predict(features_valid)\n",
    "        probabilities_valid_forest = model_forest.predict_proba(features_valid)\n",
    "        probabilities_valid_forest = probabilities_valid_forest[:, 1]\n",
    "        ROC_AUC = roc_auc_score(target_valid, probabilities_valid_forest)\n",
    "        accuracy = accuracy_score(target_valid,predict_valid)\n",
    "        print(\"estimators =\", estimators, \": \", end='')\n",
    "        print(\"depth =\", depth, \": \", end='')\n",
    "        print(\"accuracy =\",accuracy_score(target_valid,predict_valid))\n",
    "        print(\"ROC-AUC =\", roc_auc_score(target_valid, probabilities_valid_forest))\n",
    "        if ROC_AUC >i:\n",
    "                best_param=[]\n",
    "                best_param.append({'ROC-AUC':ROC_AUC})\n",
    "                best_param.append({'accuracy':accuracy})\n",
    "                best_param.append({'max_depth':depth})\n",
    "                best_param.append({'n_estimators':estimators})       \n",
    "                i=ROC_AUC"
   ]
  },
  {
   "cell_type": "code",
   "execution_count": 64,
   "metadata": {},
   "outputs": [
    {
     "data": {
      "text/plain": [
       "[{'ROC-AUC': 0.8587098482628123},\n",
       " {'accuracy': 0.7704335465529495},\n",
       " {'max_depth': 9},\n",
       " {'n_estimators': 170}]"
      ]
     },
     "execution_count": 64,
     "metadata": {},
     "output_type": "execute_result"
    }
   ],
   "source": [
    "best_param"
   ]
  },
  {
   "cell_type": "code",
   "execution_count": 65,
   "metadata": {},
   "outputs": [],
   "source": [
    "model_forest=RandomForestClassifier(random_state=12345, max_depth=9, n_estimators=170)"
   ]
  },
  {
   "cell_type": "code",
   "execution_count": 66,
   "metadata": {},
   "outputs": [
    {
     "data": {
      "text/plain": [
       "RandomForestClassifier(bootstrap=True, class_weight=None, criterion='gini',\n",
       "                       max_depth=9, max_features='auto', max_leaf_nodes=None,\n",
       "                       min_impurity_decrease=0.0, min_impurity_split=None,\n",
       "                       min_samples_leaf=1, min_samples_split=2,\n",
       "                       min_weight_fraction_leaf=0.0, n_estimators=170,\n",
       "                       n_jobs=None, oob_score=False, random_state=12345,\n",
       "                       verbose=0, warm_start=False)"
      ]
     },
     "execution_count": 66,
     "metadata": {},
     "output_type": "execute_result"
    }
   ],
   "source": [
    "model_forest.fit(features_upsampled, target_upsampled)"
   ]
  },
  {
   "cell_type": "code",
   "execution_count": 67,
   "metadata": {},
   "outputs": [
    {
     "name": "stdout",
     "output_type": "stream",
     "text": [
      "Accuracy модели RandomForest = 0.77\n"
     ]
    }
   ],
   "source": [
    "predict_valid=model_forest.predict(features_valid)\n",
    "Accuracy_forest_valid=print(\"Accuracy модели RandomForest =\", '{:.2f}'.format(accuracy_score(target_valid,predict_valid)))  \n",
    "Accuracy_forest_valid=accuracy_score(target_valid,predict_valid)"
   ]
  },
  {
   "cell_type": "code",
   "execution_count": 68,
   "metadata": {},
   "outputs": [
    {
     "name": "stdout",
     "output_type": "stream",
     "text": [
      "AUC-ROC модели RandomForest= 0.86\n"
     ]
    }
   ],
   "source": [
    "probabilities_valid_forest = model_forest.predict_proba(features_valid)\n",
    "probabilities_valid_forest = probabilities_valid_forest[:, 1]\n",
    "AUC_ROC_forest_valid=print(\"AUC-ROC модели RandomForest=\",'{:.2f}'.format(roc_auc_score(target_valid, probabilities_valid_forest)))\n",
    "AUC_ROC_forest_valid=roc_auc_score(target_valid, probabilities_valid_forest)"
   ]
  },
  {
   "cell_type": "markdown",
   "metadata": {},
   "source": [
    "## 3.4 Обучение модели CatBoostClassifier"
   ]
  },
  {
   "cell_type": "code",
   "execution_count": 29,
   "metadata": {},
   "outputs": [],
   "source": [
    "from catboost import CatBoostClassifier\n",
    "from sklearn.model_selection import cross_val_score"
   ]
  },
  {
   "cell_type": "code",
   "execution_count": 70,
   "metadata": {},
   "outputs": [],
   "source": [
    "features = data_train.drop(['number_rescind'], axis=1)\n",
    "target= data_train['number_rescind']"
   ]
  },
  {
   "cell_type": "code",
   "execution_count": 71,
   "metadata": {},
   "outputs": [],
   "source": [
    "# функция кросс-валидации\n",
    "def cross_valid(data, model):\n",
    "    block_size=int(len(data)/3)\n",
    "    j=0\n",
    "    for depth in range(4,6):\n",
    "        for estimators in range(600,1200,200):\n",
    "            accuracy_par=[]\n",
    "            roc_auc_par=[]\n",
    "            model=model ### model.set_params(n_estimators=estimators, max_depth=depth)\n",
    "            for i in range(0, len(data), block_size):\n",
    "                        valid_indexes = data.iloc[i: i + block_size].index\n",
    "                        train_indexes = (data.iloc[:i]+data.iloc[i+block_size:]).index\n",
    "\n",
    "                        features_train=features.loc[train_indexes,:]\n",
    "                        target_train=target.loc[train_indexes]\n",
    "                        features_upsampled_2, target_upsampled_2 = upsample(features_train, target_train,3)\n",
    "\n",
    "                        features_valid=features.loc[valid_indexes,:]\n",
    "                        target_valid=target.loc[valid_indexes]\n",
    "\n",
    "\n",
    "                        model = model.fit(features_upsampled_2, target_upsampled_2, verbose= False)\n",
    "\n",
    "                        accuracy = accuracy_score(target_valid,model.predict(features_valid))\n",
    "                        probabilities_valid = model.predict_proba(features_valid)\n",
    "                        probabilities_valid = probabilities_valid[:, 1]\n",
    "                        ROC_AUC = roc_auc_score(target_valid, probabilities_valid)\n",
    "\n",
    "                        accuracy_par.append(accuracy)\n",
    "                        roc_auc_par.append(ROC_AUC)\n",
    "\n",
    "            accuracy_par=pd.Series(accuracy_par)\n",
    "            final_accuracy=accuracy_par.mean()\n",
    "            roc_auc_par=pd.Series(roc_auc_par)\n",
    "            final_roc_auc=roc_auc_par.mean()\n",
    "            \n",
    "            if final_roc_auc >j:\n",
    "                best_param=[]\n",
    "                best_param.append({'ROC_AUC':final_roc_auc})\n",
    "                best_param.append({'accuracy':final_accuracy})\n",
    "                best_param.append({'depth':depth})\n",
    "                best_param.append({'n_estimators': estimators})\n",
    "                j=final_roc_auc\n",
    "                \n",
    "\n",
    "    return best_param \n",
    "    \n"
   ]
  },
  {
   "cell_type": "code",
   "execution_count": 72,
   "metadata": {},
   "outputs": [
    {
     "data": {
      "text/plain": [
       "[{'ROC_AUC': 0.8548611745319242},\n",
       " {'accuracy': 0.7783309625414888},\n",
       " {'depth': 4},\n",
       " {'n_estimators': 600}]"
      ]
     },
     "execution_count": 72,
     "metadata": {},
     "output_type": "execute_result"
    }
   ],
   "source": [
    "cross_valid(data_train, CatBoostClassifier(learning_rate=0.03, n_estimators=estimators, max_depth=depth, random_state=2018))"
   ]
  },
  {
   "cell_type": "code",
   "execution_count": 73,
   "metadata": {},
   "outputs": [],
   "source": [
    "model_cat = CatBoostClassifier(depth=4, n_estimators=600, random_state=2018)"
   ]
  },
  {
   "cell_type": "code",
   "execution_count": 74,
   "metadata": {},
   "outputs": [
    {
     "data": {
      "text/plain": [
       "<catboost.core.CatBoostClassifier at 0x7f50fe042c10>"
      ]
     },
     "execution_count": 74,
     "metadata": {},
     "output_type": "execute_result"
    }
   ],
   "source": [
    "model_cat.fit(features_upsampled, target_upsampled, verbose=False)"
   ]
  },
  {
   "cell_type": "code",
   "execution_count": 75,
   "metadata": {},
   "outputs": [],
   "source": [
    "predict_valid_cat=model_cat.predict(features_valid)"
   ]
  },
  {
   "cell_type": "code",
   "execution_count": 76,
   "metadata": {},
   "outputs": [
    {
     "name": "stdout",
     "output_type": "stream",
     "text": [
      "Accuracy модели CatBoost = 0.80\n"
     ]
    }
   ],
   "source": [
    "Accuracy_cat_valid=print(\"Accuracy модели CatBoost =\", '{:.2f}'.format(accuracy_score(target_valid,predict_valid_cat))) \n",
    "Accuracy_cat_valid=accuracy_score(target_valid,predict_valid_cat)"
   ]
  },
  {
   "cell_type": "code",
   "execution_count": 77,
   "metadata": {},
   "outputs": [
    {
     "name": "stdout",
     "output_type": "stream",
     "text": [
      "AUC-ROC модели CatBoost= 0.89\n"
     ]
    }
   ],
   "source": [
    "probabilities_valid_cat = model_cat.predict_proba(features_valid)\n",
    "probabilities_valid_cat = probabilities_valid_cat[:, 1]\n",
    "AUC_ROC_cat_valid=print(\"AUC-ROC модели CatBoost=\", '{:.2f}'.format(roc_auc_score(target_valid, probabilities_valid_cat)))\n",
    "AUC_ROC_cat_valid=roc_auc_score(target_valid, probabilities_valid_cat)"
   ]
  },
  {
   "cell_type": "markdown",
   "metadata": {},
   "source": [
    "# 3.5 Обучение модели LGBMClassifier"
   ]
  },
  {
   "cell_type": "code",
   "execution_count": 78,
   "metadata": {},
   "outputs": [],
   "source": [
    "from lightgbm import LGBMClassifier"
   ]
  },
  {
   "cell_type": "code",
   "execution_count": 79,
   "metadata": {},
   "outputs": [
    {
     "data": {
      "text/plain": [
       "[{'ROC_AUC': 0.8640654036336223},\n",
       " {'accuracy': 0.7745376955903271},\n",
       " {'depth': 4},\n",
       " {'n_estimators': 600}]"
      ]
     },
     "execution_count": 79,
     "metadata": {},
     "output_type": "execute_result"
    }
   ],
   "source": [
    "cross_valid(data_train, LGBMClassifier(learning_rate=0.03, n_estimators=estimators, max_depth=depth, random_state=2018))"
   ]
  },
  {
   "cell_type": "code",
   "execution_count": 80,
   "metadata": {},
   "outputs": [],
   "source": [
    "model_GBM = LGBMClassifier(learning_rate=0.03, depth=4, n_estimator=600, random_state=2018)"
   ]
  },
  {
   "cell_type": "code",
   "execution_count": 81,
   "metadata": {},
   "outputs": [
    {
     "data": {
      "text/plain": [
       "LGBMClassifier(boosting_type='gbdt', class_weight=None, colsample_bytree=1.0,\n",
       "               depth=4, importance_type='split', learning_rate=0.03,\n",
       "               max_depth=-1, min_child_samples=20, min_child_weight=0.001,\n",
       "               min_split_gain=0.0, n_estimator=600, n_estimators=100, n_jobs=-1,\n",
       "               num_leaves=31, objective=None, random_state=2018, reg_alpha=0.0,\n",
       "               reg_lambda=0.0, silent=True, subsample=1.0,\n",
       "               subsample_for_bin=200000, subsample_freq=0)"
      ]
     },
     "execution_count": 81,
     "metadata": {},
     "output_type": "execute_result"
    }
   ],
   "source": [
    "model_GBM.fit(features_upsampled, target_upsampled, verbose=False)"
   ]
  },
  {
   "cell_type": "code",
   "execution_count": 82,
   "metadata": {},
   "outputs": [],
   "source": [
    "predict_valid_gbm=model_GBM.predict(features_valid)"
   ]
  },
  {
   "cell_type": "code",
   "execution_count": 83,
   "metadata": {},
   "outputs": [
    {
     "name": "stdout",
     "output_type": "stream",
     "text": [
      "Accuracy модели LGBM = 0.79\n"
     ]
    }
   ],
   "source": [
    "Accuracy_GBM_valid=print(\"Accuracy модели LGBM =\", '{:.2f}'.format(accuracy_score(target_valid,predict_valid_gbm))) \n",
    "Accuracy_GBM_valid=accuracy_score(target_valid,predict_valid_gbm)"
   ]
  },
  {
   "cell_type": "code",
   "execution_count": 84,
   "metadata": {},
   "outputs": [
    {
     "name": "stdout",
     "output_type": "stream",
     "text": [
      "AUC-ROC модели LGBM= 0.88\n"
     ]
    }
   ],
   "source": [
    "probabilities_valid_gbm = model_GBM.predict_proba(features_valid)\n",
    "probabilities_valid_gbm = probabilities_valid_gbm[:, 1]\n",
    "AUC_ROC_GBM_valid=print(\"AUC-ROC модели LGBM=\", '{:.2f}'.format(roc_auc_score(target_valid, probabilities_valid_gbm)))\n",
    "AUC_ROC_GBM_valid= roc_auc_score(target_valid, probabilities_valid_gbm)"
   ]
  },
  {
   "cell_type": "markdown",
   "metadata": {},
   "source": [
    "# 4. Тестирование модели"
   ]
  },
  {
   "cell_type": "markdown",
   "metadata": {},
   "source": [
    "По результатам валидации наиболее точной моделью оказались CatBoostClassifier  с ROC-AUC=0.89. Проверим моделm на тестовых данных."
   ]
  },
  {
   "cell_type": "markdown",
   "metadata": {},
   "source": [
    "## 4.1 Тестирование CatBoostClassifier"
   ]
  },
  {
   "cell_type": "code",
   "execution_count": 85,
   "metadata": {},
   "outputs": [],
   "source": [
    "predict_test_cat=model_cat.predict(features_test)"
   ]
  },
  {
   "cell_type": "code",
   "execution_count": 86,
   "metadata": {},
   "outputs": [
    {
     "name": "stdout",
     "output_type": "stream",
     "text": [
      "Accuracy модели CatBoost = 0.79\n"
     ]
    }
   ],
   "source": [
    "Accuracy_cat_test=print(\"Accuracy модели CatBoost =\", '{:.2f}'.format(accuracy_score(target_test,predict_test_cat))) \n",
    "Accuracy_cat_test=accuracy_score(target_test,predict_test_cat)"
   ]
  },
  {
   "cell_type": "code",
   "execution_count": 87,
   "metadata": {},
   "outputs": [
    {
     "name": "stdout",
     "output_type": "stream",
     "text": [
      "AUC-ROC модели CatBoost= 0.88\n"
     ]
    }
   ],
   "source": [
    "probabilities_test_cat = model_cat.predict_proba(features_test)\n",
    "probabilities_test_cat = probabilities_test_cat[:, 1]\n",
    "AUC_ROC_cat_test=print(\"AUC-ROC модели CatBoost=\", '{:.2f}'.format(roc_auc_score(target_test, probabilities_test_cat)))\n",
    "AUC_ROC_cat_test=roc_auc_score(target_test, probabilities_test_cat)"
   ]
  },
  {
   "cell_type": "markdown",
   "metadata": {},
   "source": [
    "## 4.2 Сводная таблица"
   ]
  },
  {
   "cell_type": "code",
   "execution_count": 88,
   "metadata": {},
   "outputs": [
    {
     "data": {
      "text/html": [
       "<div>\n",
       "<style scoped>\n",
       "    .dataframe tbody tr th:only-of-type {\n",
       "        vertical-align: middle;\n",
       "    }\n",
       "\n",
       "    .dataframe tbody tr th {\n",
       "        vertical-align: top;\n",
       "    }\n",
       "\n",
       "    .dataframe thead th {\n",
       "        text-align: right;\n",
       "    }\n",
       "</style>\n",
       "<table border=\"1\" class=\"dataframe\">\n",
       "  <thead>\n",
       "    <tr style=\"text-align: right;\">\n",
       "      <th></th>\n",
       "      <th>Model</th>\n",
       "      <th>ROC-AUC_valid</th>\n",
       "      <th>Accuracy_valid</th>\n",
       "      <th>ROC-AUC_test</th>\n",
       "      <th>Accuracy_test</th>\n",
       "    </tr>\n",
       "  </thead>\n",
       "  <tbody>\n",
       "    <tr>\n",
       "      <td>0</td>\n",
       "      <td>DecisionTreeClassifier</td>\n",
       "      <td>0.84</td>\n",
       "      <td>0.75</td>\n",
       "      <td>0.00</td>\n",
       "      <td>0.00</td>\n",
       "    </tr>\n",
       "    <tr>\n",
       "      <td>1</td>\n",
       "      <td>RandomForestClassifier</td>\n",
       "      <td>0.86</td>\n",
       "      <td>0.77</td>\n",
       "      <td>0.00</td>\n",
       "      <td>0.00</td>\n",
       "    </tr>\n",
       "    <tr>\n",
       "      <td>2</td>\n",
       "      <td>CatBoost</td>\n",
       "      <td>0.89</td>\n",
       "      <td>0.80</td>\n",
       "      <td>0.88</td>\n",
       "      <td>0.79</td>\n",
       "    </tr>\n",
       "    <tr>\n",
       "      <td>3</td>\n",
       "      <td>LightGBMR</td>\n",
       "      <td>0.88</td>\n",
       "      <td>0.79</td>\n",
       "      <td>0.00</td>\n",
       "      <td>0.00</td>\n",
       "    </tr>\n",
       "  </tbody>\n",
       "</table>\n",
       "</div>"
      ],
      "text/plain": [
       "                    Model  ROC-AUC_valid  Accuracy_valid  ROC-AUC_test  \\\n",
       "0  DecisionTreeClassifier           0.84            0.75          0.00   \n",
       "1  RandomForestClassifier           0.86            0.77          0.00   \n",
       "2                CatBoost           0.89            0.80          0.88   \n",
       "3               LightGBMR           0.88            0.79          0.00   \n",
       "\n",
       "   Accuracy_test  \n",
       "0           0.00  \n",
       "1           0.00  \n",
       "2           0.79  \n",
       "3           0.00  "
      ]
     },
     "execution_count": 88,
     "metadata": {},
     "output_type": "execute_result"
    }
   ],
   "source": [
    "data = {'Model':['DecisionTreeClassifier','RandomForestClassifier','CatBoost','LightGBMR'], 'ROC-AUC_valid':[AUC_ROC_tree_valid, AUC_ROC_forest_valid, AUC_ROC_cat_valid, AUC_ROC_GBM_valid],\n",
    "        'Accuracy_valid':[Accuracy_tree_valid, Accuracy_forest_valid, Accuracy_cat_valid, Accuracy_GBM_valid], 'ROC-AUC_test':[0,0,AUC_ROC_cat_test,0],\n",
    "       'Accuracy_test':[0,0,Accuracy_cat_test,0]}\n",
    "df = pd.DataFrame(data).round(decimals=2).reset_index(drop=True)\n",
    "df"
   ]
  },
  {
   "cell_type": "markdown",
   "metadata": {},
   "source": [
    "Лучшая модель CatBoostClassifier c ROC-AUC=0.89 и Accuracy=0.80"
   ]
  },
  {
   "cell_type": "markdown",
   "metadata": {},
   "source": [
    "# Отчёт"
   ]
  },
  {
   "cell_type": "markdown",
   "metadata": {},
   "source": [
    "1. Все пункты плана выполнены. Проведены предобработка и анализ данных, обучено несколько моделей и настроены гиперпараметры, для лучшей модели проведено тестирование. \n",
    "2. При настройке гиперпараметров для моделей градиентного бустинга было некорректно использовать стандартную кросс-валидацию на выборке, увеличенной с помощью upsampling. Так как применяя upsampling мы меняем исходное распределение данных,то при обычной кросс-валидации обучающая и валидационная выборки также будут иметь неправильное распределение. Для решения этой проблемы была написана собственная функцию для кросс-валидации, в которой только обучающая выборка каждый раз увеличивается с помощью upsampling.\n",
    "3. Ключевые шаги,повлиявшие на качество моделей:\n",
    "  1. Понимание того какие признаки важны, а какие можно исключить из обучения.\n",
    "  2. Устранение дисбаланса классов в целевом признаке.\n",
    "  3. Применение one-hot-кодирования. Так как алгоритмы машинного обучения, такие как RandomForest и DesicionTree из библиотеки        scikit-learn не рабатают с катерогиальными признаками, это было необходимо для них. Для моделей градиентного бустинга это        необязательно, но прямое кодирование не сильно \"раздуло\" матрицу признаков и в итоге только улучшило ключевые показатели        для этих моделей.\n",
    "4. Итоговая модель: CatBoostClassifier c ROC-AUC=0.89 и Accuracy=0.80  \n",
    "  "
   ]
  },
  {
   "cell_type": "code",
   "execution_count": null,
   "metadata": {},
   "outputs": [],
   "source": []
  }
 ],
 "metadata": {
  "kernelspec": {
   "display_name": "Python 3",
   "language": "python",
   "name": "python3"
  },
  "language_info": {
   "codemirror_mode": {
    "name": "ipython",
    "version": 3
   },
   "file_extension": ".py",
   "mimetype": "text/x-python",
   "name": "python",
   "nbconvert_exporter": "python",
   "pygments_lexer": "ipython3",
   "version": "3.7.6"
  }
 },
 "nbformat": 4,
 "nbformat_minor": 2
}
