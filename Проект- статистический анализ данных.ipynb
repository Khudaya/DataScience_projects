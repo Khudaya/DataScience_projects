{
 "cells": [
  {
   "cell_type": "markdown",
   "metadata": {},
   "source": [
    "# Определение перспективного тарифа для телеком компании"
   ]
  },
  {
   "cell_type": "markdown",
   "metadata": {},
   "source": [
    "Вы аналитик компании «Мегалайн» — федерального оператора сотовой связи. Клиентам предлагают два тарифных плана: «Смарт» и «Ультра». Чтобы скорректировать рекламный бюджет, коммерческий департамент хочет понять, какой тариф приносит больше денег.\n",
    "Вам предстоит сделать предварительный анализ тарифов на небольшой выборке клиентов.\n",
    "\n",
    "В вашем распоряжении данные 500 пользователей «Мегалайна»: кто они, откуда, каким тарифом пользуются, сколько звонков и сообщений каждый отправил за 2018 год. Нужно проанализировать поведение клиентов и сделать вывод — какой тариф лучше."
   ]
  },
  {
   "cell_type": "markdown",
   "metadata": {},
   "source": [
    "### 1.  Изучаем данные"
   ]
  },
  {
   "cell_type": "markdown",
   "metadata": {},
   "source": [
    "#### 1.1 Изучим таблицу с информацей о звонках"
   ]
  },
  {
   "cell_type": "code",
   "execution_count": 91,
   "metadata": {},
   "outputs": [
    {
     "name": "stdout",
     "output_type": "stream",
     "text": [
      "<class 'pandas.core.frame.DataFrame'>\n",
      "RangeIndex: 202607 entries, 0 to 202606\n",
      "Data columns (total 4 columns):\n",
      "id           202607 non-null object\n",
      "call_date    202607 non-null object\n",
      "duration     202607 non-null float64\n",
      "user_id      202607 non-null int64\n",
      "dtypes: float64(1), int64(1), object(2)\n",
      "memory usage: 6.2+ MB\n"
     ]
    }
   ],
   "source": [
    "import pandas as pd\n",
    "data_calls=pd.read_csv('/datasets/calls.csv')\n",
    "data_calls.head()\n",
    "data_calls.info()\n"
   ]
  },
  {
   "cell_type": "markdown",
   "metadata": {},
   "source": [
    "В таблице 4 столбца, отстутствуют пропущенные значения. При этом подозрительны звонки с продолжительностью 0.0 минут и секунд, хотя известно, что \"Мегалайн\" округляет вверх значение минут. Столбец 'user_id' это уникальный идентификатор пользователя, его тип нужну привести к object."
   ]
  },
  {
   "cell_type": "markdown",
   "metadata": {},
   "source": [
    "#### 1.2 Изучим таблицу с информацией об  интернет-сессиях."
   ]
  },
  {
   "cell_type": "code",
   "execution_count": 92,
   "metadata": {},
   "outputs": [
    {
     "name": "stdout",
     "output_type": "stream",
     "text": [
      "<class 'pandas.core.frame.DataFrame'>\n",
      "RangeIndex: 149396 entries, 0 to 149395\n",
      "Data columns (total 4 columns):\n",
      "id              149396 non-null object\n",
      "mb_used         149396 non-null float64\n",
      "session_date    149396 non-null object\n",
      "user_id         149396 non-null int64\n",
      "dtypes: float64(1), int64(1), object(2)\n",
      "memory usage: 4.6+ MB\n"
     ]
    }
   ],
   "source": [
    "data_internet=pd.read_csv('/datasets/internet.csv')\n",
    "data_internet.head()\n",
    "data_internet.info()"
   ]
  },
  {
   "cell_type": "markdown",
   "metadata": {},
   "source": [
    "В таблице нет пропущенных значений. Нужно поменять тип данных в столбце 'user_id'. На первый взгляд все впорядке."
   ]
  },
  {
   "cell_type": "markdown",
   "metadata": {},
   "source": [
    "#### 1.3 Изучим таблицу с информацией о сообщениях."
   ]
  },
  {
   "cell_type": "code",
   "execution_count": 93,
   "metadata": {},
   "outputs": [
    {
     "name": "stdout",
     "output_type": "stream",
     "text": [
      "       id message_date  user_id\n",
      "0  1000_0   2018-06-27     1000\n",
      "1  1000_1   2018-10-08     1000\n",
      "2  1000_2   2018-08-04     1000\n",
      "3  1000_3   2018-06-16     1000\n",
      "4  1000_4   2018-12-05     1000\n",
      "<class 'pandas.core.frame.DataFrame'>\n",
      "RangeIndex: 123036 entries, 0 to 123035\n",
      "Data columns (total 3 columns):\n",
      "id              123036 non-null object\n",
      "message_date    123036 non-null object\n",
      "user_id         123036 non-null int64\n",
      "dtypes: int64(1), object(2)\n",
      "memory usage: 2.8+ MB\n"
     ]
    }
   ],
   "source": [
    "data_messages=pd.read_csv('/datasets/messages.csv')\n",
    "print(data_messages.head())\n",
    "data_messages.info()"
   ]
  },
  {
   "cell_type": "markdown",
   "metadata": {},
   "source": [
    "В таблице нет пропущенных значений. Нужно поменять тип данных в столбце 'user_id'. На первый взгляд все впорядке."
   ]
  },
  {
   "cell_type": "markdown",
   "metadata": {},
   "source": [
    "#### 1.4 Изучим таблицу с информацией о тарифах."
   ]
  },
  {
   "cell_type": "code",
   "execution_count": 94,
   "metadata": {},
   "outputs": [
    {
     "name": "stdout",
     "output_type": "stream",
     "text": [
      "<class 'pandas.core.frame.DataFrame'>\n",
      "RangeIndex: 2 entries, 0 to 1\n",
      "Data columns (total 8 columns):\n",
      "messages_included        2 non-null int64\n",
      "mg_per_month_included    2 non-null int64\n",
      "minutes_included         2 non-null int64\n",
      "rub_monthly_fee          2 non-null int64\n",
      "rub_per_gb               2 non-null int64\n",
      "rub_per_message          2 non-null int64\n",
      "rub_per_minute           2 non-null int64\n",
      "tariff_name              2 non-null object\n",
      "dtypes: int64(7), object(1)\n",
      "memory usage: 256.0+ bytes\n"
     ]
    }
   ],
   "source": [
    "data_tariffs=pd.read_csv('/datasets/tariffs.csv')\n",
    "data_tariffs.head()\n",
    "data_tariffs.info()"
   ]
  },
  {
   "cell_type": "markdown",
   "metadata": {},
   "source": [
    "В таблице нет пропущенных значений.  На первый взгляд все впорядке."
   ]
  },
  {
   "cell_type": "markdown",
   "metadata": {},
   "source": [
    "#### 1.5 Изучим таблицу с информацией о пользователях."
   ]
  },
  {
   "cell_type": "code",
   "execution_count": 95,
   "metadata": {},
   "outputs": [
    {
     "name": "stdout",
     "output_type": "stream",
     "text": [
      "<class 'pandas.core.frame.DataFrame'>\n",
      "RangeIndex: 500 entries, 0 to 499\n",
      "Data columns (total 8 columns):\n",
      "user_id        500 non-null int64\n",
      "age            500 non-null int64\n",
      "churn_date     38 non-null object\n",
      "city           500 non-null object\n",
      "first_name     500 non-null object\n",
      "last_name      500 non-null object\n",
      "reg_date       500 non-null object\n",
      "tariff_name    500 non-null object\n",
      "dtypes: int64(2), object(6)\n",
      "memory usage: 31.4+ KB\n"
     ]
    }
   ],
   "source": [
    "data_users=pd.read_csv('/datasets/users.csv')\n",
    "data_users=data_users.rename(columns={'tariff':'tariff_name'})\n",
    "data_users.head()\n",
    "data_users.info()"
   ]
  },
  {
   "cell_type": "markdown",
   "metadata": {},
   "source": [
    "В таблице 500 строк, значит у нас есть данные о 500 пользователях. Пропущенные значения только в столбце 'churn_date', что говорит о том, что тариф действовал на момент выгрузки данных. "
   ]
  },
  {
   "cell_type": "markdown",
   "metadata": {},
   "source": [
    "### 2. Предобработка данных"
   ]
  },
  {
   "cell_type": "markdown",
   "metadata": {},
   "source": [
    "#### 2.1 Предобработка таблицы data_calls и data_tariffs"
   ]
  },
  {
   "cell_type": "code",
   "execution_count": 96,
   "metadata": {},
   "outputs": [
    {
     "data": {
      "text/plain": [
       "4.49     142\n",
       "5.50     142\n",
       "6.38     141\n",
       "6.15     141\n",
       "4.92     139\n",
       "        ... \n",
       "25.67      1\n",
       "27.19      1\n",
       "28.87      1\n",
       "26.07      1\n",
       "27.63      1\n",
       "Name: duration, Length: 2870, dtype: int64"
      ]
     },
     "execution_count": 96,
     "metadata": {},
     "output_type": "execute_result"
    }
   ],
   "source": [
    "data_calls['duration'].value_counts() # много нулевых значений\n",
    "# Удаляем нудевые значения \n",
    "data_calls=data_calls.query('duration != \"0.0\"')\n",
    "data_calls['duration'].value_counts()\n"
   ]
  },
  {
   "cell_type": "markdown",
   "metadata": {},
   "source": [
    "Столбец 'duration' содержит нулевые значения. Возможно это не прошедшие вызовы, или ошибочное округлении значений вниз. в любом случае нельяоднозначно определить причину возникновения пропусков. Было решено убрать нулевые значения, так какони не несут однозначной информации о продолжительности звонков."
   ]
  },
  {
   "cell_type": "code",
   "execution_count": 97,
   "metadata": {},
   "outputs": [],
   "source": [
    "# округлим значения в столбце duration таблицы data_calls до целых чисел вверх\n",
    "import numpy as np\n",
    "data_calls['duration']=data_calls['duration'].apply(np.ceil)"
   ]
  },
  {
   "cell_type": "code",
   "execution_count": 98,
   "metadata": {},
   "outputs": [],
   "source": [
    "# округлим значения в столбце mb_used таблицы data_internet до целых чисел вверх\n",
    "data_internet['mb_used']=data_internet['mb_used'].apply(np.ceil)"
   ]
  },
  {
   "cell_type": "markdown",
   "metadata": {},
   "source": [
    "В столбцах 'duration' таблицы data_call и 'mb_used' таблицы data_internet все значения были округлены вверх, так как компания Мегалайн всегда округляет вверх значения минут и мегабайтов."
   ]
  },
  {
   "cell_type": "markdown",
   "metadata": {},
   "source": [
    "#### 2.2 Замена типа в столбце 'user_id'"
   ]
  },
  {
   "cell_type": "code",
   "execution_count": 99,
   "metadata": {},
   "outputs": [],
   "source": [
    "data_calls['user_id']=data_calls['user_id'].astype('object')\n",
    "data_internet['user_id']=data_internet['user_id'].astype('object')\n",
    "data_messages['user_id']=data_messages['user_id'].astype('object')\n",
    "data_users['user_id']=data_users['user_id'].astype('object')"
   ]
  },
  {
   "cell_type": "markdown",
   "metadata": {},
   "source": [
    "Столбец 'user_id' содержит уникальные идентификаторы клиентов, это качетвенная переменная. У неё должен быть тип object."
   ]
  },
  {
   "cell_type": "markdown",
   "metadata": {},
   "source": [
    "####  2.3 Посчитаем количество сделанных звонков и израсходованных минут разговора по месяцам"
   ]
  },
  {
   "cell_type": "code",
   "execution_count": 100,
   "metadata": {},
   "outputs": [
    {
     "data": {
      "text/html": [
       "<div>\n",
       "<style scoped>\n",
       "    .dataframe tbody tr th:only-of-type {\n",
       "        vertical-align: middle;\n",
       "    }\n",
       "\n",
       "    .dataframe tbody tr th {\n",
       "        vertical-align: top;\n",
       "    }\n",
       "\n",
       "    .dataframe thead th {\n",
       "        text-align: right;\n",
       "    }\n",
       "</style>\n",
       "<table border=\"1\" class=\"dataframe\">\n",
       "  <thead>\n",
       "    <tr style=\"text-align: right;\">\n",
       "      <th></th>\n",
       "      <th>user_id</th>\n",
       "      <th>month</th>\n",
       "      <th>count_talk</th>\n",
       "      <th>sum_time_talk</th>\n",
       "    </tr>\n",
       "  </thead>\n",
       "  <tbody>\n",
       "    <tr>\n",
       "      <td>0</td>\n",
       "      <td>1000</td>\n",
       "      <td>5</td>\n",
       "      <td>17</td>\n",
       "      <td>159.0</td>\n",
       "    </tr>\n",
       "    <tr>\n",
       "      <td>1</td>\n",
       "      <td>1000</td>\n",
       "      <td>6</td>\n",
       "      <td>28</td>\n",
       "      <td>172.0</td>\n",
       "    </tr>\n",
       "    <tr>\n",
       "      <td>2</td>\n",
       "      <td>1000</td>\n",
       "      <td>7</td>\n",
       "      <td>41</td>\n",
       "      <td>340.0</td>\n",
       "    </tr>\n",
       "    <tr>\n",
       "      <td>3</td>\n",
       "      <td>1000</td>\n",
       "      <td>8</td>\n",
       "      <td>42</td>\n",
       "      <td>408.0</td>\n",
       "    </tr>\n",
       "    <tr>\n",
       "      <td>4</td>\n",
       "      <td>1000</td>\n",
       "      <td>9</td>\n",
       "      <td>46</td>\n",
       "      <td>466.0</td>\n",
       "    </tr>\n",
       "    <tr>\n",
       "      <td>5</td>\n",
       "      <td>1000</td>\n",
       "      <td>10</td>\n",
       "      <td>44</td>\n",
       "      <td>350.0</td>\n",
       "    </tr>\n",
       "    <tr>\n",
       "      <td>6</td>\n",
       "      <td>1000</td>\n",
       "      <td>11</td>\n",
       "      <td>37</td>\n",
       "      <td>338.0</td>\n",
       "    </tr>\n",
       "    <tr>\n",
       "      <td>7</td>\n",
       "      <td>1000</td>\n",
       "      <td>12</td>\n",
       "      <td>38</td>\n",
       "      <td>333.0</td>\n",
       "    </tr>\n",
       "    <tr>\n",
       "      <td>8</td>\n",
       "      <td>1001</td>\n",
       "      <td>11</td>\n",
       "      <td>45</td>\n",
       "      <td>430.0</td>\n",
       "    </tr>\n",
       "    <tr>\n",
       "      <td>9</td>\n",
       "      <td>1001</td>\n",
       "      <td>12</td>\n",
       "      <td>47</td>\n",
       "      <td>414.0</td>\n",
       "    </tr>\n",
       "  </tbody>\n",
       "</table>\n",
       "</div>"
      ],
      "text/plain": [
       "   user_id  month  count_talk  sum_time_talk\n",
       "0     1000      5          17          159.0\n",
       "1     1000      6          28          172.0\n",
       "2     1000      7          41          340.0\n",
       "3     1000      8          42          408.0\n",
       "4     1000      9          46          466.0\n",
       "5     1000     10          44          350.0\n",
       "6     1000     11          37          338.0\n",
       "7     1000     12          38          333.0\n",
       "8     1001     11          45          430.0\n",
       "9     1001     12          47          414.0"
      ]
     },
     "execution_count": 100,
     "metadata": {},
     "output_type": "execute_result"
    }
   ],
   "source": [
    "#создадим в таблице data_calls столбец с номерами месяцев\n",
    "import datetime as dt\n",
    "data_calls['call_date']=pd.to_datetime(data_calls['call_date'], format='%Y-%m-%dT%H:%M:%S')\n",
    "data_calls['month']=data_calls['call_date'].dt.month\n",
    "\n",
    "# создадим таблицу с кол-ом сделанных звонков и израсходованных минут\n",
    "total_talk=data_calls.pivot_table(index=['user_id','month'], values='duration', aggfunc=('count','sum')).reset_index()\n",
    "# переименуем столбцы count и sum\n",
    "total_talk = total_talk.rename(columns={'count':'count_talk', 'sum':'sum_time_talk'})\n",
    "\n",
    "total_talk.head(10)"
   ]
  },
  {
   "cell_type": "code",
   "execution_count": 101,
   "metadata": {},
   "outputs": [
    {
     "data": {
      "text/plain": [
       "<matplotlib.axes._subplots.AxesSubplot at 0x7fbdf3a36898>"
      ]
     },
     "execution_count": 101,
     "metadata": {},
     "output_type": "execute_result"
    },
    {
     "data": {
      "image/png": "[encoded data removed]",
      "text/plain": [
       "<Figure size 432x288 with 1 Axes>"
      ]
     },
     "metadata": {
      "needs_background": "light"
     },
     "output_type": "display_data"
    }
   ],
   "source": [
    "#приведем результаты таблицы total_talk в более наглядный вид\n",
    "(total_talk\n",
    "     .pivot_table(index='month', values='sum_time_talk')\n",
    "     .plot()          \n",
    " )"
   ]
  },
  {
   "cell_type": "markdown",
   "metadata": {},
   "source": [
    "Продолжительность разговоров резко увеличивается с 3-его месяца, затем неуклонно растет."
   ]
  },
  {
   "cell_type": "markdown",
   "metadata": {},
   "source": [
    "#### 2.4 Посчитаем количество отправленных сообщений по месяцам"
   ]
  },
  {
   "cell_type": "code",
   "execution_count": 102,
   "metadata": {},
   "outputs": [
    {
     "data": {
      "text/html": [
       "<div>\n",
       "<style scoped>\n",
       "    .dataframe tbody tr th:only-of-type {\n",
       "        vertical-align: middle;\n",
       "    }\n",
       "\n",
       "    .dataframe tbody tr th {\n",
       "        vertical-align: top;\n",
       "    }\n",
       "\n",
       "    .dataframe thead th {\n",
       "        text-align: right;\n",
       "    }\n",
       "</style>\n",
       "<table border=\"1\" class=\"dataframe\">\n",
       "  <thead>\n",
       "    <tr style=\"text-align: right;\">\n",
       "      <th></th>\n",
       "      <th>user_id</th>\n",
       "      <th>month</th>\n",
       "      <th>message_count</th>\n",
       "    </tr>\n",
       "  </thead>\n",
       "  <tbody>\n",
       "    <tr>\n",
       "      <td>0</td>\n",
       "      <td>1000</td>\n",
       "      <td>5</td>\n",
       "      <td>22</td>\n",
       "    </tr>\n",
       "    <tr>\n",
       "      <td>1</td>\n",
       "      <td>1000</td>\n",
       "      <td>6</td>\n",
       "      <td>60</td>\n",
       "    </tr>\n",
       "    <tr>\n",
       "      <td>2</td>\n",
       "      <td>1000</td>\n",
       "      <td>7</td>\n",
       "      <td>75</td>\n",
       "    </tr>\n",
       "    <tr>\n",
       "      <td>3</td>\n",
       "      <td>1000</td>\n",
       "      <td>8</td>\n",
       "      <td>81</td>\n",
       "    </tr>\n",
       "    <tr>\n",
       "      <td>4</td>\n",
       "      <td>1000</td>\n",
       "      <td>9</td>\n",
       "      <td>57</td>\n",
       "    </tr>\n",
       "    <tr>\n",
       "      <td>5</td>\n",
       "      <td>1000</td>\n",
       "      <td>10</td>\n",
       "      <td>73</td>\n",
       "    </tr>\n",
       "    <tr>\n",
       "      <td>6</td>\n",
       "      <td>1000</td>\n",
       "      <td>11</td>\n",
       "      <td>58</td>\n",
       "    </tr>\n",
       "    <tr>\n",
       "      <td>7</td>\n",
       "      <td>1000</td>\n",
       "      <td>12</td>\n",
       "      <td>70</td>\n",
       "    </tr>\n",
       "    <tr>\n",
       "      <td>8</td>\n",
       "      <td>1002</td>\n",
       "      <td>6</td>\n",
       "      <td>4</td>\n",
       "    </tr>\n",
       "    <tr>\n",
       "      <td>9</td>\n",
       "      <td>1002</td>\n",
       "      <td>7</td>\n",
       "      <td>11</td>\n",
       "    </tr>\n",
       "  </tbody>\n",
       "</table>\n",
       "</div>"
      ],
      "text/plain": [
       "   user_id  month  message_count\n",
       "0     1000      5             22\n",
       "1     1000      6             60\n",
       "2     1000      7             75\n",
       "3     1000      8             81\n",
       "4     1000      9             57\n",
       "5     1000     10             73\n",
       "6     1000     11             58\n",
       "7     1000     12             70\n",
       "8     1002      6              4\n",
       "9     1002      7             11"
      ]
     },
     "execution_count": 102,
     "metadata": {},
     "output_type": "execute_result"
    }
   ],
   "source": [
    "# создадим в таблице data_messages столбец с месяцами\n",
    "data_messages['message_date']=pd.to_datetime(data_messages['message_date'], format='%Y-%m-%dT%H:%M:%S')\n",
    "data_messages['month']=data_messages['message_date'].dt.month\n",
    "#создадим таблицу с количеством сделанных звонков по месяцам\n",
    "messages_to_month=data_messages.pivot_table(index=['user_id','month'], values ='message_date', aggfunc=('count')).reset_index()\n",
    "messages_to_month=messages_to_month.rename(columns={'message_date':'message_count'})\n",
    "messages_to_month.head(10)"
   ]
  },
  {
   "cell_type": "code",
   "execution_count": 103,
   "metadata": {},
   "outputs": [
    {
     "data": {
      "text/plain": [
       "<matplotlib.axes._subplots.AxesSubplot at 0x7fbe4c5982b0>"
      ]
     },
     "execution_count": 103,
     "metadata": {},
     "output_type": "execute_result"
    },
    {
     "data": {
      "image/png": "[encoded data removed]",
      "text/plain": [
       "<Figure size 432x288 with 1 Axes>"
      ]
     },
     "metadata": {
      "needs_background": "light"
     },
     "output_type": "display_data"
    }
   ],
   "source": [
    "#приведем результаты таблицы messages_to_month в более наглядный вид\n",
    "(messages_to_month\n",
    "     .pivot_table(index='month', values='message_count')\n",
    "     .plot()          \n",
    " )"
   ]
  },
  {
   "cell_type": "markdown",
   "metadata": {},
   "source": [
    "Количество сообщений резко увеличивается с 3-его месяца, затем неуклонно растет."
   ]
  },
  {
   "cell_type": "markdown",
   "metadata": {},
   "source": [
    "#### 2.5 Посчитаем объем израсходованного интернет-трафика по месяцам"
   ]
  },
  {
   "cell_type": "code",
   "execution_count": 104,
   "metadata": {},
   "outputs": [
    {
     "data": {
      "text/html": [
       "<div>\n",
       "<style scoped>\n",
       "    .dataframe tbody tr th:only-of-type {\n",
       "        vertical-align: middle;\n",
       "    }\n",
       "\n",
       "    .dataframe tbody tr th {\n",
       "        vertical-align: top;\n",
       "    }\n",
       "\n",
       "    .dataframe thead th {\n",
       "        text-align: right;\n",
       "    }\n",
       "</style>\n",
       "<table border=\"1\" class=\"dataframe\">\n",
       "  <thead>\n",
       "    <tr style=\"text-align: right;\">\n",
       "      <th></th>\n",
       "      <th>user_id</th>\n",
       "      <th>month</th>\n",
       "      <th>mb_used_count</th>\n",
       "    </tr>\n",
       "  </thead>\n",
       "  <tbody>\n",
       "    <tr>\n",
       "      <td>0</td>\n",
       "      <td>1000</td>\n",
       "      <td>5</td>\n",
       "      <td>2256.0</td>\n",
       "    </tr>\n",
       "    <tr>\n",
       "      <td>1</td>\n",
       "      <td>1000</td>\n",
       "      <td>6</td>\n",
       "      <td>23257.0</td>\n",
       "    </tr>\n",
       "    <tr>\n",
       "      <td>2</td>\n",
       "      <td>1000</td>\n",
       "      <td>7</td>\n",
       "      <td>14016.0</td>\n",
       "    </tr>\n",
       "    <tr>\n",
       "      <td>3</td>\n",
       "      <td>1000</td>\n",
       "      <td>8</td>\n",
       "      <td>14070.0</td>\n",
       "    </tr>\n",
       "    <tr>\n",
       "      <td>4</td>\n",
       "      <td>1000</td>\n",
       "      <td>9</td>\n",
       "      <td>14581.0</td>\n",
       "    </tr>\n",
       "    <tr>\n",
       "      <td>5</td>\n",
       "      <td>1000</td>\n",
       "      <td>10</td>\n",
       "      <td>14717.0</td>\n",
       "    </tr>\n",
       "    <tr>\n",
       "      <td>6</td>\n",
       "      <td>1000</td>\n",
       "      <td>11</td>\n",
       "      <td>14768.0</td>\n",
       "    </tr>\n",
       "    <tr>\n",
       "      <td>7</td>\n",
       "      <td>1000</td>\n",
       "      <td>12</td>\n",
       "      <td>9827.0</td>\n",
       "    </tr>\n",
       "    <tr>\n",
       "      <td>8</td>\n",
       "      <td>1001</td>\n",
       "      <td>11</td>\n",
       "      <td>18452.0</td>\n",
       "    </tr>\n",
       "    <tr>\n",
       "      <td>9</td>\n",
       "      <td>1001</td>\n",
       "      <td>12</td>\n",
       "      <td>14053.0</td>\n",
       "    </tr>\n",
       "  </tbody>\n",
       "</table>\n",
       "</div>"
      ],
      "text/plain": [
       "   user_id  month  mb_used_count\n",
       "0     1000      5         2256.0\n",
       "1     1000      6        23257.0\n",
       "2     1000      7        14016.0\n",
       "3     1000      8        14070.0\n",
       "4     1000      9        14581.0\n",
       "5     1000     10        14717.0\n",
       "6     1000     11        14768.0\n",
       "7     1000     12         9827.0\n",
       "8     1001     11        18452.0\n",
       "9     1001     12        14053.0"
      ]
     },
     "execution_count": 104,
     "metadata": {},
     "output_type": "execute_result"
    }
   ],
   "source": [
    "# создадим в таблице data_internet столбец с месяцами\n",
    "data_internet['session_date']=pd.to_datetime(data_internet['session_date'], format='%Y-%m-%dT%H:%M:%S')\n",
    "data_internet['month']=data_internet['session_date'].dt.month\n",
    "#создадим таблицу с объмом интернет-трафика по месяцам\n",
    "traffic_to_month=data_internet.pivot_table(index=['user_id','month'], values='mb_used', aggfunc='sum').reset_index()\n",
    "traffic_to_month=traffic_to_month.rename(columns={'mb_used':'mb_used_count'})\n",
    "traffic_to_month.head(10)\n",
    "\n"
   ]
  },
  {
   "cell_type": "code",
   "execution_count": 105,
   "metadata": {},
   "outputs": [
    {
     "data": {
      "text/plain": [
       "<matplotlib.axes._subplots.AxesSubplot at 0x7fbdf18e9d30>"
      ]
     },
     "execution_count": 105,
     "metadata": {},
     "output_type": "execute_result"
    },
    {
     "data": {
      "image/png": "[encoded data removed]",
      "text/plain": [
       "<Figure size 432x288 with 1 Axes>"
      ]
     },
     "metadata": {
      "needs_background": "light"
     },
     "output_type": "display_data"
    }
   ],
   "source": [
    "#приведем результаты таблицы traffic_to_month в более наглядный вид\n",
    "(traffic_to_month\n",
    "     .pivot_table(index='month', values='mb_used_count')\n",
    "     .plot()          \n",
    " )"
   ]
  },
  {
   "cell_type": "markdown",
   "metadata": {},
   "source": [
    " Объём потребления трафика резко увеличивается к 3-ему месяцу. В целом, в течение года объём потребления траффика в месяц увеличиается"
   ]
  },
  {
   "cell_type": "markdown",
   "metadata": {},
   "source": [
    "#### 2.6 Посчитаем помесячную выручку с каждого пользователя"
   ]
  },
  {
   "cell_type": "markdown",
   "metadata": {},
   "source": [
    "#### 2.6.1 Создаём сводную таблицу для звонков, сообщений и трафика"
   ]
  },
  {
   "cell_type": "code",
   "execution_count": 126,
   "metadata": {},
   "outputs": [
    {
     "data": {
      "text/html": [
       "<div>\n",
       "<style scoped>\n",
       "    .dataframe tbody tr th:only-of-type {\n",
       "        vertical-align: middle;\n",
       "    }\n",
       "\n",
       "    .dataframe tbody tr th {\n",
       "        vertical-align: top;\n",
       "    }\n",
       "\n",
       "    .dataframe thead th {\n",
       "        text-align: right;\n",
       "    }\n",
       "</style>\n",
       "<table border=\"1\" class=\"dataframe\">\n",
       "  <thead>\n",
       "    <tr style=\"text-align: right;\">\n",
       "      <th></th>\n",
       "      <th>user_id</th>\n",
       "      <th>month</th>\n",
       "      <th>count_talk</th>\n",
       "      <th>sum_time_talk</th>\n",
       "      <th>message_count</th>\n",
       "      <th>mb_used_count</th>\n",
       "      <th>tariff_name</th>\n",
       "      <th>messages_included</th>\n",
       "      <th>mg_per_month_included</th>\n",
       "      <th>minutes_included</th>\n",
       "      <th>rub_monthly_fee</th>\n",
       "      <th>rub_per_gb</th>\n",
       "      <th>rub_per_message</th>\n",
       "      <th>rub_per_minute</th>\n",
       "    </tr>\n",
       "  </thead>\n",
       "  <tbody>\n",
       "    <tr>\n",
       "      <td>0</td>\n",
       "      <td>1000</td>\n",
       "      <td>5</td>\n",
       "      <td>17</td>\n",
       "      <td>159.0</td>\n",
       "      <td>22</td>\n",
       "      <td>2256.0</td>\n",
       "      <td>ultra</td>\n",
       "      <td>1000</td>\n",
       "      <td>30720</td>\n",
       "      <td>3000</td>\n",
       "      <td>1950</td>\n",
       "      <td>150</td>\n",
       "      <td>1</td>\n",
       "      <td>1</td>\n",
       "    </tr>\n",
       "    <tr>\n",
       "      <td>1</td>\n",
       "      <td>1000</td>\n",
       "      <td>6</td>\n",
       "      <td>28</td>\n",
       "      <td>172.0</td>\n",
       "      <td>60</td>\n",
       "      <td>23257.0</td>\n",
       "      <td>ultra</td>\n",
       "      <td>1000</td>\n",
       "      <td>30720</td>\n",
       "      <td>3000</td>\n",
       "      <td>1950</td>\n",
       "      <td>150</td>\n",
       "      <td>1</td>\n",
       "      <td>1</td>\n",
       "    </tr>\n",
       "    <tr>\n",
       "      <td>2</td>\n",
       "      <td>1000</td>\n",
       "      <td>7</td>\n",
       "      <td>41</td>\n",
       "      <td>340.0</td>\n",
       "      <td>75</td>\n",
       "      <td>14016.0</td>\n",
       "      <td>ultra</td>\n",
       "      <td>1000</td>\n",
       "      <td>30720</td>\n",
       "      <td>3000</td>\n",
       "      <td>1950</td>\n",
       "      <td>150</td>\n",
       "      <td>1</td>\n",
       "      <td>1</td>\n",
       "    </tr>\n",
       "    <tr>\n",
       "      <td>3</td>\n",
       "      <td>1000</td>\n",
       "      <td>8</td>\n",
       "      <td>42</td>\n",
       "      <td>408.0</td>\n",
       "      <td>81</td>\n",
       "      <td>14070.0</td>\n",
       "      <td>ultra</td>\n",
       "      <td>1000</td>\n",
       "      <td>30720</td>\n",
       "      <td>3000</td>\n",
       "      <td>1950</td>\n",
       "      <td>150</td>\n",
       "      <td>1</td>\n",
       "      <td>1</td>\n",
       "    </tr>\n",
       "    <tr>\n",
       "      <td>4</td>\n",
       "      <td>1000</td>\n",
       "      <td>9</td>\n",
       "      <td>46</td>\n",
       "      <td>466.0</td>\n",
       "      <td>57</td>\n",
       "      <td>14581.0</td>\n",
       "      <td>ultra</td>\n",
       "      <td>1000</td>\n",
       "      <td>30720</td>\n",
       "      <td>3000</td>\n",
       "      <td>1950</td>\n",
       "      <td>150</td>\n",
       "      <td>1</td>\n",
       "      <td>1</td>\n",
       "    </tr>\n",
       "    <tr>\n",
       "      <td>5</td>\n",
       "      <td>1000</td>\n",
       "      <td>10</td>\n",
       "      <td>44</td>\n",
       "      <td>350.0</td>\n",
       "      <td>73</td>\n",
       "      <td>14717.0</td>\n",
       "      <td>ultra</td>\n",
       "      <td>1000</td>\n",
       "      <td>30720</td>\n",
       "      <td>3000</td>\n",
       "      <td>1950</td>\n",
       "      <td>150</td>\n",
       "      <td>1</td>\n",
       "      <td>1</td>\n",
       "    </tr>\n",
       "    <tr>\n",
       "      <td>6</td>\n",
       "      <td>1000</td>\n",
       "      <td>11</td>\n",
       "      <td>37</td>\n",
       "      <td>338.0</td>\n",
       "      <td>58</td>\n",
       "      <td>14768.0</td>\n",
       "      <td>ultra</td>\n",
       "      <td>1000</td>\n",
       "      <td>30720</td>\n",
       "      <td>3000</td>\n",
       "      <td>1950</td>\n",
       "      <td>150</td>\n",
       "      <td>1</td>\n",
       "      <td>1</td>\n",
       "    </tr>\n",
       "    <tr>\n",
       "      <td>7</td>\n",
       "      <td>1000</td>\n",
       "      <td>12</td>\n",
       "      <td>38</td>\n",
       "      <td>333.0</td>\n",
       "      <td>70</td>\n",
       "      <td>9827.0</td>\n",
       "      <td>ultra</td>\n",
       "      <td>1000</td>\n",
       "      <td>30720</td>\n",
       "      <td>3000</td>\n",
       "      <td>1950</td>\n",
       "      <td>150</td>\n",
       "      <td>1</td>\n",
       "      <td>1</td>\n",
       "    </tr>\n",
       "    <tr>\n",
       "      <td>8</td>\n",
       "      <td>1003</td>\n",
       "      <td>8</td>\n",
       "      <td>43</td>\n",
       "      <td>380.0</td>\n",
       "      <td>37</td>\n",
       "      <td>8571.0</td>\n",
       "      <td>ultra</td>\n",
       "      <td>1000</td>\n",
       "      <td>30720</td>\n",
       "      <td>3000</td>\n",
       "      <td>1950</td>\n",
       "      <td>150</td>\n",
       "      <td>1</td>\n",
       "      <td>1</td>\n",
       "    </tr>\n",
       "    <tr>\n",
       "      <td>9</td>\n",
       "      <td>1003</td>\n",
       "      <td>9</td>\n",
       "      <td>105</td>\n",
       "      <td>961.0</td>\n",
       "      <td>91</td>\n",
       "      <td>12479.0</td>\n",
       "      <td>ultra</td>\n",
       "      <td>1000</td>\n",
       "      <td>30720</td>\n",
       "      <td>3000</td>\n",
       "      <td>1950</td>\n",
       "      <td>150</td>\n",
       "      <td>1</td>\n",
       "      <td>1</td>\n",
       "    </tr>\n",
       "  </tbody>\n",
       "</table>\n",
       "</div>"
      ],
      "text/plain": [
       "   user_id  month  count_talk  sum_time_talk  message_count  mb_used_count  \\\n",
       "0     1000      5          17          159.0             22         2256.0   \n",
       "1     1000      6          28          172.0             60        23257.0   \n",
       "2     1000      7          41          340.0             75        14016.0   \n",
       "3     1000      8          42          408.0             81        14070.0   \n",
       "4     1000      9          46          466.0             57        14581.0   \n",
       "5     1000     10          44          350.0             73        14717.0   \n",
       "6     1000     11          37          338.0             58        14768.0   \n",
       "7     1000     12          38          333.0             70         9827.0   \n",
       "8     1003      8          43          380.0             37         8571.0   \n",
       "9     1003      9         105          961.0             91        12479.0   \n",
       "\n",
       "  tariff_name  messages_included  mg_per_month_included  minutes_included  \\\n",
       "0       ultra               1000                  30720              3000   \n",
       "1       ultra               1000                  30720              3000   \n",
       "2       ultra               1000                  30720              3000   \n",
       "3       ultra               1000                  30720              3000   \n",
       "4       ultra               1000                  30720              3000   \n",
       "5       ultra               1000                  30720              3000   \n",
       "6       ultra               1000                  30720              3000   \n",
       "7       ultra               1000                  30720              3000   \n",
       "8       ultra               1000                  30720              3000   \n",
       "9       ultra               1000                  30720              3000   \n",
       "\n",
       "   rub_monthly_fee  rub_per_gb  rub_per_message  rub_per_minute  \n",
       "0             1950         150                1               1  \n",
       "1             1950         150                1               1  \n",
       "2             1950         150                1               1  \n",
       "3             1950         150                1               1  \n",
       "4             1950         150                1               1  \n",
       "5             1950         150                1               1  \n",
       "6             1950         150                1               1  \n",
       "7             1950         150                1               1  \n",
       "8             1950         150                1               1  \n",
       "9             1950         150                1               1  "
      ]
     },
     "execution_count": 126,
     "metadata": {},
     "output_type": "execute_result"
    }
   ],
   "source": [
    "# создаём таблицу с тарифами для каждого пользователя\n",
    "user_tariff = data_users.filter(['user_id', 'tariff_name'],axis=1)\n",
    "user_tariff=user_tariff.set_index('user_id')\n",
    "#создаём сводную таблицу\n",
    "total_talk_mes=total_talk.merge(messages_to_month, on=['user_id','month']).reset_index(drop=True)\n",
    "total_talk_mes_trf=total_talk_mes.merge(traffic_to_month, on=['user_id','month']).reset_index(drop=True)\n",
    "total_talk_mes_trf=total_talk_mes_trf.merge(user_tariff, on=['user_id']).reset_index(drop=True)\n",
    "total_talk_mes_trf=total_talk_mes_trf.merge(data_tariffs, on=['tariff_name']).reset_index(drop=True)\n",
    "    \n",
    "total_talk_mes_trf.head(10)\n"
   ]
  },
  {
   "cell_type": "markdown",
   "metadata": {},
   "source": [
    "#### 2.5.2 Считаем помесячную выручку с каждого пользователя для каждого тарифа"
   ]
  },
  {
   "cell_type": "code",
   "execution_count": 107,
   "metadata": {},
   "outputs": [
    {
     "data": {
      "text/html": [
       "<div>\n",
       "<style scoped>\n",
       "    .dataframe tbody tr th:only-of-type {\n",
       "        vertical-align: middle;\n",
       "    }\n",
       "\n",
       "    .dataframe tbody tr th {\n",
       "        vertical-align: top;\n",
       "    }\n",
       "\n",
       "    .dataframe thead th {\n",
       "        text-align: right;\n",
       "    }\n",
       "</style>\n",
       "<table border=\"1\" class=\"dataframe\">\n",
       "  <thead>\n",
       "    <tr style=\"text-align: right;\">\n",
       "      <th></th>\n",
       "      <th>user_id</th>\n",
       "      <th>month</th>\n",
       "      <th>tariff_name</th>\n",
       "      <th>total_revenue</th>\n",
       "    </tr>\n",
       "  </thead>\n",
       "  <tbody>\n",
       "    <tr>\n",
       "      <td>0</td>\n",
       "      <td>1000</td>\n",
       "      <td>5</td>\n",
       "      <td>ultra</td>\n",
       "      <td>-2238.60</td>\n",
       "    </tr>\n",
       "    <tr>\n",
       "      <td>1</td>\n",
       "      <td>1000</td>\n",
       "      <td>6</td>\n",
       "      <td>ultra</td>\n",
       "      <td>962.55</td>\n",
       "    </tr>\n",
       "    <tr>\n",
       "      <td>2</td>\n",
       "      <td>1000</td>\n",
       "      <td>7</td>\n",
       "      <td>ultra</td>\n",
       "      <td>-240.60</td>\n",
       "    </tr>\n",
       "    <tr>\n",
       "      <td>3</td>\n",
       "      <td>1000</td>\n",
       "      <td>8</td>\n",
       "      <td>ultra</td>\n",
       "      <td>-158.50</td>\n",
       "    </tr>\n",
       "    <tr>\n",
       "      <td>4</td>\n",
       "      <td>1000</td>\n",
       "      <td>9</td>\n",
       "      <td>ultra</td>\n",
       "      <td>-47.85</td>\n",
       "    </tr>\n",
       "  </tbody>\n",
       "</table>\n",
       "</div>"
      ],
      "text/plain": [
       "   user_id  month tariff_name  total_revenue\n",
       "0     1000      5       ultra       -2238.60\n",
       "1     1000      6       ultra         962.55\n",
       "2     1000      7       ultra        -240.60\n",
       "3     1000      8       ultra        -158.50\n",
       "4     1000      9       ultra         -47.85"
      ]
     },
     "execution_count": 107,
     "metadata": {},
     "output_type": "execute_result"
    }
   ],
   "source": [
    "# создаём функцию для подсчёта выручки\n",
    "def proceed_count(data):\n",
    "    data['call_revenue']=((data['sum_time_talk']-data['minutes_included'])*data['rub_per_minute'])+data['rub_monthly_fee']\n",
    "    data['message_revenue']=((data['message_count']-data['messages_included'])*data['rub_per_message'])+data['rub_monthly_fee']\n",
    "    data['mb_revenue']=(((data['mb_used_count']-data['mg_per_month_included'])/1000)*data['rub_per_gb'])+data['rub_monthly_fee']\n",
    "    data['total_revenue']=data['call_revenue']+data['message_revenue']+data['mb_revenue']\n",
    "    \n",
    "    return data.filter(['user_id','month','tariff_name','total_revenue'])\n",
    "  \n",
    "total_table_revenue=total_talk_mes_trf.apply(proceed_count,axis=1)   \n",
    "total_table_revenue.head()"
   ]
  },
  {
   "cell_type": "code",
   "execution_count": 108,
   "metadata": {},
   "outputs": [
    {
     "data": {
      "text/plain": [
       "<matplotlib.axes._subplots.AxesSubplot at 0x7fbdf19c6710>"
      ]
     },
     "execution_count": 108,
     "metadata": {},
     "output_type": "execute_result"
    },
    {
     "data": {
      "image/png": "[encoded data removed]",
      "text/plain": [
       "<Figure size 432x288 with 1 Axes>"
      ]
     },
     "metadata": {
      "needs_background": "light"
     },
     "output_type": "display_data"
    }
   ],
   "source": [
    "#приведем результаты таблицы total_table_revenue в более наглядный вид\n",
    "(total_table_revenue\n",
    "     .pivot_table(index='month', values='total_revenue')\n",
    "     .plot()          \n",
    " )"
   ]
  },
  {
   "cell_type": "markdown",
   "metadata": {},
   "source": [
    "В первом месяце нет выручки. Средняя задолженность пользователей составляет 500 рублей. При этом опять же к 3-ему месяцу средняя выручка в месяц с каждого пользователя резко возрастает и увеличивается в течение года."
   ]
  },
  {
   "cell_type": "code",
   "execution_count": 127,
   "metadata": {},
   "outputs": [
    {
     "data": {
      "text/plain": [
       "12    397\n",
       "11    376\n",
       "10    350\n",
       "9     311\n",
       "8     284\n",
       "7     242\n",
       "6     204\n",
       "5     170\n",
       "4     133\n",
       "3      94\n",
       "2      64\n",
       "1      37\n",
       "Name: month, dtype: int64"
      ]
     },
     "execution_count": 127,
     "metadata": {},
     "output_type": "execute_result"
    }
   ],
   "source": [
    "total_table_revenue['month'].value_counts()"
   ]
  },
  {
   "cell_type": "markdown",
   "metadata": {},
   "source": [
    "Таким образом, резкие скачки значений продолжительности разговора, кол-ва сообщений и объёма данных связаны с тем, что пользователи стали подключаться к этим двум тарифам только в 3-ем месяце."
   ]
  },
  {
   "cell_type": "markdown",
   "metadata": {},
   "source": [
    "### 3. Анализ данных"
   ]
  },
  {
   "cell_type": "markdown",
   "metadata": {},
   "source": [
    "#### 3.1 Среднее количество разговоров, сообщений и трафика для каждого тарифа в месяц"
   ]
  },
  {
   "cell_type": "code",
   "execution_count": 109,
   "metadata": {},
   "outputs": [
    {
     "data": {
      "text/html": [
       "<div>\n",
       "<style scoped>\n",
       "    .dataframe tbody tr th:only-of-type {\n",
       "        vertical-align: middle;\n",
       "    }\n",
       "\n",
       "    .dataframe tbody tr th {\n",
       "        vertical-align: top;\n",
       "    }\n",
       "\n",
       "    .dataframe thead th {\n",
       "        text-align: right;\n",
       "    }\n",
       "</style>\n",
       "<table border=\"1\" class=\"dataframe\">\n",
       "  <thead>\n",
       "    <tr style=\"text-align: right;\">\n",
       "      <th></th>\n",
       "      <th>tariff_name</th>\n",
       "      <th>month</th>\n",
       "      <th>mb_used_count</th>\n",
       "      <th>message_count</th>\n",
       "      <th>sum_time_talk</th>\n",
       "    </tr>\n",
       "  </thead>\n",
       "  <tbody>\n",
       "    <tr>\n",
       "      <td>0</td>\n",
       "      <td>smart</td>\n",
       "      <td>1</td>\n",
       "      <td>8681.100000</td>\n",
       "      <td>19.733333</td>\n",
       "      <td>217.700000</td>\n",
       "    </tr>\n",
       "    <tr>\n",
       "      <td>1</td>\n",
       "      <td>smart</td>\n",
       "      <td>2</td>\n",
       "      <td>11954.480000</td>\n",
       "      <td>27.940000</td>\n",
       "      <td>311.740000</td>\n",
       "    </tr>\n",
       "    <tr>\n",
       "      <td>2</td>\n",
       "      <td>smart</td>\n",
       "      <td>3</td>\n",
       "      <td>14659.449275</td>\n",
       "      <td>35.550725</td>\n",
       "      <td>393.086957</td>\n",
       "    </tr>\n",
       "    <tr>\n",
       "      <td>3</td>\n",
       "      <td>smart</td>\n",
       "      <td>4</td>\n",
       "      <td>13604.136842</td>\n",
       "      <td>35.736842</td>\n",
       "      <td>385.610526</td>\n",
       "    </tr>\n",
       "    <tr>\n",
       "      <td>4</td>\n",
       "      <td>smart</td>\n",
       "      <td>5</td>\n",
       "      <td>16174.918033</td>\n",
       "      <td>39.032787</td>\n",
       "      <td>399.606557</td>\n",
       "    </tr>\n",
       "    <tr>\n",
       "      <td>5</td>\n",
       "      <td>smart</td>\n",
       "      <td>6</td>\n",
       "      <td>15815.624113</td>\n",
       "      <td>38.510638</td>\n",
       "      <td>399.177305</td>\n",
       "    </tr>\n",
       "    <tr>\n",
       "      <td>6</td>\n",
       "      <td>smart</td>\n",
       "      <td>7</td>\n",
       "      <td>15843.695402</td>\n",
       "      <td>38.988506</td>\n",
       "      <td>409.321839</td>\n",
       "    </tr>\n",
       "    <tr>\n",
       "      <td>7</td>\n",
       "      <td>smart</td>\n",
       "      <td>8</td>\n",
       "      <td>16868.707921</td>\n",
       "      <td>39.044554</td>\n",
       "      <td>429.460396</td>\n",
       "    </tr>\n",
       "    <tr>\n",
       "      <td>8</td>\n",
       "      <td>smart</td>\n",
       "      <td>9</td>\n",
       "      <td>16393.981982</td>\n",
       "      <td>39.252252</td>\n",
       "      <td>429.135135</td>\n",
       "    </tr>\n",
       "    <tr>\n",
       "      <td>9</td>\n",
       "      <td>smart</td>\n",
       "      <td>10</td>\n",
       "      <td>16794.762846</td>\n",
       "      <td>39.154150</td>\n",
       "      <td>427.391304</td>\n",
       "    </tr>\n",
       "    <tr>\n",
       "      <td>10</td>\n",
       "      <td>smart</td>\n",
       "      <td>11</td>\n",
       "      <td>16996.052045</td>\n",
       "      <td>39.955390</td>\n",
       "      <td>440.234201</td>\n",
       "    </tr>\n",
       "    <tr>\n",
       "      <td>11</td>\n",
       "      <td>smart</td>\n",
       "      <td>12</td>\n",
       "      <td>17936.608392</td>\n",
       "      <td>42.290210</td>\n",
       "      <td>474.048951</td>\n",
       "    </tr>\n",
       "    <tr>\n",
       "      <td>12</td>\n",
       "      <td>ultra</td>\n",
       "      <td>1</td>\n",
       "      <td>14002.571429</td>\n",
       "      <td>43.428571</td>\n",
       "      <td>476.000000</td>\n",
       "    </tr>\n",
       "    <tr>\n",
       "      <td>13</td>\n",
       "      <td>ultra</td>\n",
       "      <td>2</td>\n",
       "      <td>14906.500000</td>\n",
       "      <td>37.285714</td>\n",
       "      <td>400.000000</td>\n",
       "    </tr>\n",
       "    <tr>\n",
       "      <td>14</td>\n",
       "      <td>ultra</td>\n",
       "      <td>3</td>\n",
       "      <td>17145.160000</td>\n",
       "      <td>47.800000</td>\n",
       "      <td>552.880000</td>\n",
       "    </tr>\n",
       "    <tr>\n",
       "      <td>15</td>\n",
       "      <td>ultra</td>\n",
       "      <td>4</td>\n",
       "      <td>16837.763158</td>\n",
       "      <td>45.447368</td>\n",
       "      <td>499.815789</td>\n",
       "    </tr>\n",
       "    <tr>\n",
       "      <td>16</td>\n",
       "      <td>ultra</td>\n",
       "      <td>5</td>\n",
       "      <td>18952.270833</td>\n",
       "      <td>50.041667</td>\n",
       "      <td>532.125000</td>\n",
       "    </tr>\n",
       "    <tr>\n",
       "      <td>17</td>\n",
       "      <td>ultra</td>\n",
       "      <td>6</td>\n",
       "      <td>18500.174603</td>\n",
       "      <td>50.888889</td>\n",
       "      <td>497.761905</td>\n",
       "    </tr>\n",
       "    <tr>\n",
       "      <td>18</td>\n",
       "      <td>ultra</td>\n",
       "      <td>7</td>\n",
       "      <td>20182.088235</td>\n",
       "      <td>60.044118</td>\n",
       "      <td>566.779412</td>\n",
       "    </tr>\n",
       "    <tr>\n",
       "      <td>19</td>\n",
       "      <td>ultra</td>\n",
       "      <td>8</td>\n",
       "      <td>19333.768293</td>\n",
       "      <td>57.707317</td>\n",
       "      <td>533.926829</td>\n",
       "    </tr>\n",
       "    <tr>\n",
       "      <td>20</td>\n",
       "      <td>ultra</td>\n",
       "      <td>9</td>\n",
       "      <td>19371.168539</td>\n",
       "      <td>62.539326</td>\n",
       "      <td>571.191011</td>\n",
       "    </tr>\n",
       "    <tr>\n",
       "      <td>21</td>\n",
       "      <td>ultra</td>\n",
       "      <td>10</td>\n",
       "      <td>20518.896907</td>\n",
       "      <td>70.762887</td>\n",
       "      <td>577.092784</td>\n",
       "    </tr>\n",
       "    <tr>\n",
       "      <td>22</td>\n",
       "      <td>ultra</td>\n",
       "      <td>11</td>\n",
       "      <td>19733.271028</td>\n",
       "      <td>67.242991</td>\n",
       "      <td>560.289720</td>\n",
       "    </tr>\n",
       "    <tr>\n",
       "      <td>23</td>\n",
       "      <td>ultra</td>\n",
       "      <td>12</td>\n",
       "      <td>22053.009009</td>\n",
       "      <td>72.990991</td>\n",
       "      <td>639.828829</td>\n",
       "    </tr>\n",
       "  </tbody>\n",
       "</table>\n",
       "</div>"
      ],
      "text/plain": [
       "   tariff_name  month  mb_used_count  message_count  sum_time_talk\n",
       "0        smart      1    8681.100000      19.733333     217.700000\n",
       "1        smart      2   11954.480000      27.940000     311.740000\n",
       "2        smart      3   14659.449275      35.550725     393.086957\n",
       "3        smart      4   13604.136842      35.736842     385.610526\n",
       "4        smart      5   16174.918033      39.032787     399.606557\n",
       "5        smart      6   15815.624113      38.510638     399.177305\n",
       "6        smart      7   15843.695402      38.988506     409.321839\n",
       "7        smart      8   16868.707921      39.044554     429.460396\n",
       "8        smart      9   16393.981982      39.252252     429.135135\n",
       "9        smart     10   16794.762846      39.154150     427.391304\n",
       "10       smart     11   16996.052045      39.955390     440.234201\n",
       "11       smart     12   17936.608392      42.290210     474.048951\n",
       "12       ultra      1   14002.571429      43.428571     476.000000\n",
       "13       ultra      2   14906.500000      37.285714     400.000000\n",
       "14       ultra      3   17145.160000      47.800000     552.880000\n",
       "15       ultra      4   16837.763158      45.447368     499.815789\n",
       "16       ultra      5   18952.270833      50.041667     532.125000\n",
       "17       ultra      6   18500.174603      50.888889     497.761905\n",
       "18       ultra      7   20182.088235      60.044118     566.779412\n",
       "19       ultra      8   19333.768293      57.707317     533.926829\n",
       "20       ultra      9   19371.168539      62.539326     571.191011\n",
       "21       ultra     10   20518.896907      70.762887     577.092784\n",
       "22       ultra     11   19733.271028      67.242991     560.289720\n",
       "23       ultra     12   22053.009009      72.990991     639.828829"
      ]
     },
     "execution_count": 109,
     "metadata": {},
     "output_type": "execute_result"
    }
   ],
   "source": [
    "# создаём сводную таблицу и применяем метод mean\n",
    "import numpy as np\n",
    "total_talk_mes_trf_stat = total_talk_mes_trf.pivot_table(index=['tariff_name','month'], \n",
    "                                                         values=['sum_time_talk','message_count','mb_used_count'],\n",
    "                                                         ).reset_index()\n",
    "\n",
    "total_talk_mes_trf_stat"
   ]
  },
  {
   "cell_type": "code",
   "execution_count": 110,
   "metadata": {},
   "outputs": [],
   "source": [
    "# посчитаем дисперсию\n",
    "variance_talk = np.var(total_talk_mes_trf_stat['sum_time_talk'], ddof=1)\n",
    "variance_message = np.var(total_talk_mes_trf_stat['message_count'], ddof=1)\n",
    "variance_mb_used = np.var(total_talk_mes_trf_stat['mb_used_count'], ddof=1)"
   ]
  },
  {
   "cell_type": "code",
   "execution_count": 111,
   "metadata": {},
   "outputs": [],
   "source": [
    "#посчитаем стандартное отклонение\n",
    "standard_deviation_talk = np.sqrt(variance_talk)\n",
    "standard_deviation_message = np.sqrt(variance_message)\n",
    "standard_deviation_mb_used = np.sqrt(variance_mb_used)"
   ]
  },
  {
   "cell_type": "code",
   "execution_count": 112,
   "metadata": {},
   "outputs": [
    {
     "data": {
      "text/html": [
       "<div>\n",
       "<style scoped>\n",
       "    .dataframe tbody tr th:only-of-type {\n",
       "        vertical-align: middle;\n",
       "    }\n",
       "\n",
       "    .dataframe tbody tr th {\n",
       "        vertical-align: top;\n",
       "    }\n",
       "\n",
       "    .dataframe thead th {\n",
       "        text-align: right;\n",
       "    }\n",
       "</style>\n",
       "<table border=\"1\" class=\"dataframe\">\n",
       "  <thead>\n",
       "    <tr style=\"text-align: right;\">\n",
       "      <th></th>\n",
       "      <th>type</th>\n",
       "      <th>variance</th>\n",
       "      <th>standard_deviation</th>\n",
       "    </tr>\n",
       "  </thead>\n",
       "  <tbody>\n",
       "    <tr>\n",
       "      <td>0</td>\n",
       "      <td>talk</td>\n",
       "      <td>9.125711e+03</td>\n",
       "      <td>95.528588</td>\n",
       "    </tr>\n",
       "    <tr>\n",
       "      <td>1</td>\n",
       "      <td>message</td>\n",
       "      <td>1.783635e+02</td>\n",
       "      <td>13.355282</td>\n",
       "    </tr>\n",
       "    <tr>\n",
       "      <td>2</td>\n",
       "      <td>mb_used</td>\n",
       "      <td>8.761620e+06</td>\n",
       "      <td>2960.003420</td>\n",
       "    </tr>\n",
       "  </tbody>\n",
       "</table>\n",
       "</div>"
      ],
      "text/plain": [
       "      type      variance  standard_deviation\n",
       "0     talk  9.125711e+03           95.528588\n",
       "1  message  1.783635e+02           13.355282\n",
       "2  mb_used  8.761620e+06         2960.003420"
      ]
     },
     "execution_count": 112,
     "metadata": {},
     "output_type": "execute_result"
    }
   ],
   "source": [
    "data=[['talk', variance_talk,standard_deviation_talk],['message',variance_message,standard_deviation_message],['mb_used',variance_mb_used, standard_deviation_mb_used]]\n",
    "table_stat=pd.DataFrame(data, columns=['type','variance','standard_deviation'])\n",
    "table_stat"
   ]
  },
  {
   "cell_type": "markdown",
   "metadata": {},
   "source": [
    "#### 3.2 Графики для тарифа smart и ultra"
   ]
  },
  {
   "cell_type": "markdown",
   "metadata": {},
   "source": [
    "##### 3.2.1 Анализ количества звонков в месяц"
   ]
  },
  {
   "cell_type": "code",
   "execution_count": 113,
   "metadata": {},
   "outputs": [],
   "source": [
    "import matplotlib.pyplot as plt\n",
    "\n",
    "#создаём срез данных для тарифа smart\n",
    "total_smart= total_talk_mes_trf_stat.query('tariff_name == \"smart\"')\n",
    "# создаём срез данных для тарифа ultra\n",
    "total_ultra= total_talk_mes_trf_stat.query('tariff_name == \"ultra\"')"
   ]
  },
  {
   "cell_type": "code",
   "execution_count": 114,
   "metadata": {},
   "outputs": [
    {
     "data": {
      "image/png": "[encoded data removed]",
      "text/plain": [
       "<Figure size 432x288 with 1 Axes>"
      ]
     },
     "metadata": {
      "needs_background": "light"
     },
     "output_type": "display_data"
    },
    {
     "data": {
      "image/png": "[encoded data removed]",
      "text/plain": [
       "<Figure size 432x288 with 1 Axes>"
      ]
     },
     "metadata": {
      "needs_background": "light"
     },
     "output_type": "display_data"
    },
    {
     "data": {
      "image/png": "[encoded data removed]",
      "text/plain": [
       "<Figure size 432x288 with 1 Axes>"
      ]
     },
     "metadata": {
      "needs_background": "light"
     },
     "output_type": "display_data"
    }
   ],
   "source": [
    "# строим гистограмму частот для минут разговора\n",
    "num_bins=[0,220,370, 390,430, 500]\n",
    "smart_call_hist= total_smart.hist(['sum_time_talk'],bins=num_bins,color='green', label='smart')\n",
    "num_bins=[300,400,490,540, 580,650]\n",
    "total_ultra.hist(['sum_time_talk'],bins=num_bins, ax=smart_call_hist, color='red', alpha=0.5, label='ultra')\n",
    "plt.legend(['smart', 'ultra'])\n",
    "plt.xlabel('sum_time_talk')\n",
    "plt.ylabel('frequency')\n",
    "plt.title('Frequency of call duration for different tariffs')\n",
    "# строим график минут разговора по месяцам\n",
    "\n",
    "smart_call = total_smart.plot(x='month',y='sum_time_talk',kind='bar', label='smart',color= 'red',stacked=True)\n",
    "total_ultra.plot(x='month',y='sum_time_talk', ax= smart_call,alpha=0.5,color= 'green', stacked=True,kind='bar', label='ultra', grid=True)\n",
    "plt.xlabel('month')\n",
    "plt.ylabel('sum_time_talk')\n",
    "plt.title('Mean duration of calls for different tariffs in month')\n",
    "plt.show()\n",
    "\n",
    "#строим диаграмму размаха\n",
    "total_talk_mes_trf_stat.boxplot(by=['tariff_name'],column=['sum_time_talk'])\n",
    "plt.ylim(300, 700)\n",
    "plt.title('Boxplot for mean sum_time_talk in month')\n",
    "plt.suptitle('') \n",
    "plt.xlabel('tariff_name')\n",
    "plt.ylabel('sum_time_talk_in_month')\n",
    "plt.show()"
   ]
  },
  {
   "cell_type": "markdown",
   "metadata": {},
   "source": [
    "В течении года количество минут разговора увеличивается для обоих тарифов. Максимальное количество минут приходится на 12-ый месяц месяц:smart-474 мин, ultra-639. Датасет тарифа \"smart\"скошен вправо.Таким образом, у клиентов тарифа 'smart' длительность разговора в месяц больше медианной, но не превышает максимума в 500 минут. Датасен тарифа 'ultra' скошен влево, тоесть многие пользователи разговариют меньше 540(медианное значение) в месяц. Если предложить этим пользователям тариф 'smart', то недостающие минуты они будут докупать."
   ]
  },
  {
   "cell_type": "markdown",
   "metadata": {},
   "source": [
    "##### 3.2.2 График для кол-ва сообщений в месяц"
   ]
  },
  {
   "cell_type": "code",
   "execution_count": 123,
   "metadata": {},
   "outputs": [
    {
     "data": {
      "image/png": "[encoded data removed]",
      "text/plain": [
       "<Figure size 432x288 with 1 Axes>"
      ]
     },
     "metadata": {
      "needs_background": "light"
     },
     "output_type": "display_data"
    },
    {
     "data": {
      "image/png": "[encoded data removed]",
      "text/plain": [
       "<Figure size 432x288 with 1 Axes>"
      ]
     },
     "metadata": {
      "needs_background": "light"
     },
     "output_type": "display_data"
    },
    {
     "data": {
      "text/plain": [
       "(35, 75)"
      ]
     },
     "execution_count": 123,
     "metadata": {},
     "output_type": "execute_result"
    },
    {
     "data": {
      "image/png": "[encoded data removed]",
      "text/plain": [
       "<Figure size 432x288 with 1 Axes>"
      ]
     },
     "metadata": {
      "needs_background": "light"
     },
     "output_type": "display_data"
    }
   ],
   "source": [
    "#строим гистограмму частот для кол-ва сообщений\n",
    "num_bins=[10,23, 28,36,45]\n",
    "ax=total_smart.hist(['message_count'],bins=num_bins, color='green', label='smart')\n",
    "num_bins=[10,20,40,50,69,80]\n",
    "total_ultra.hist(['message_count'],bins=num_bins,ax=ax,alpha=0.5,color= 'red',label='ultra', grid=True)\n",
    "plt.legend(['smart', 'ultra'])\n",
    "plt.xlabel('message_count')\n",
    "plt.ylabel('frequency')\n",
    "plt.title('Frequency of message_count for different tariffs')\n",
    "#строим график числа сообщений по месяцам\n",
    "ax=total_smart.plot(x='month',y='message_count',kind='bar',label='smart',color= 'red')\n",
    "total_ultra.plot(x='month',y='message_count',kind='bar',ax=ax, alpha=0.5,color= 'green',  label='ultra', grid=True)\n",
    "plt.xlabel('month')\n",
    "plt.ylabel('message_count')\n",
    "plt.title('Mean count of message for different tariffs in month')\n",
    "plt.show()\n",
    "\n",
    "#строим диаграмму размаха\n",
    "total_talk_mes_trf_stat.boxplot(by=['tariff_name'],column=['message_count'])\n",
    "plt.title('Boxplot for mean message_count in month')\n",
    "plt.suptitle('') \n",
    "plt.xlabel('tariff_name')\n",
    "plt.ylabel('message_count_in_month')\n",
    "plt.ylim(35, 75)"
   ]
  },
  {
   "cell_type": "markdown",
   "metadata": {},
   "source": [
    "В течение года среднее число сообщений в месяц растёт. Только на 12 месяц приходится максимум - 42 сообщения в месяц для тарифа \"smart\" и 72 для тарифа \"ultra\". Датасет тарифа smart сильно скошен влево, то есть среднее кол-во сообщений пользователей в месяц меньше медианного. Пользователи тарифа ultra никгда не отправляют 1000 сообщений в месяц. В среднем месяц отправляется от 49 до 62 сообщений."
   ]
  },
  {
   "cell_type": "markdown",
   "metadata": {},
   "source": [
    "#### 3.2.3. График для объёма потраченного интернет трафика"
   ]
  },
  {
   "cell_type": "code",
   "execution_count": 124,
   "metadata": {},
   "outputs": [
    {
     "data": {
      "image/png": "[encoded data removed]",
      "text/plain": [
       "<Figure size 432x288 with 1 Axes>"
      ]
     },
     "metadata": {
      "needs_background": "light"
     },
     "output_type": "display_data"
    },
    {
     "data": {
      "image/png": "[encoded data removed]",
      "text/plain": [
       "<Figure size 432x288 with 1 Axes>"
      ]
     },
     "metadata": {
      "needs_background": "light"
     },
     "output_type": "display_data"
    },
    {
     "data": {
      "text/plain": [
       "(7500, 23000)"
      ]
     },
     "execution_count": 124,
     "metadata": {},
     "output_type": "execute_result"
    },
    {
     "data": {
      "image/png": "[encoded data removed]",
      "text/plain": [
       "<Figure size 432x288 with 1 Axes>"
      ]
     },
     "metadata": {
      "needs_background": "light"
     },
     "output_type": "display_data"
    }
   ],
   "source": [
    "num_bins=[1000,10000,15500,16000, 17000,19000]\n",
    "ax=total_smart.hist(['mb_used_count'],bins=num_bins,color='green', label='smart')\n",
    "num_bins=[13000,14000, 16500,17100,18000,18900,19500,20500,22000]\n",
    "total_ultra.hist(['mb_used_count'],bins=num_bins,ax=ax, alpha=0.5, color= 'red',label='ultra', grid=True)\n",
    "plt.legend(['smart', 'ultra'])\n",
    "plt.xlabel('mb_used_count')\n",
    "plt.ylabel('frequency')\n",
    "plt.title('Frequency of mb_used_count for different tariffs')\n",
    "#строим график среднего объёма траффика в месяц\n",
    "ax=total_smart.plot(x='month',y='mb_used_count',kind='bar',label='smart',color= 'red')\n",
    "total_ultra.plot(x='month',y='mb_used_count',kind='bar',ax=ax,color= 'green',alpha=0.5, label='ultra', grid=True)\n",
    "plt.xlabel('month')\n",
    "plt.ylabel('mb_used_count')\n",
    "plt.title('Mean count of used mb for different tariffs in month')\n",
    "plt.show()\n",
    "#строим диаграмму размаха\n",
    "total_talk_mes_trf_stat.boxplot(by=['tariff_name'],column=['mb_used_count'])\n",
    "plt.title('Boxplot for mean mb_used_count in month')\n",
    "plt.suptitle('') \n",
    "plt.xlabel('tariff_name')\n",
    "plt.ylabel('mb_used_count_in_month')\n",
    "plt.ylim(7500, 23000)"
   ]
  },
  {
   "cell_type": "markdown",
   "metadata": {},
   "source": [
    "Объём трафика повышается c колебаниями в течение года.Достигает максимального значения- 18000 мб для тарифа smart и 22000 мб для тарифа ultra. В среднем в месяц пользователи тарифа ultra используют объём траффика меньше медианного, а в 1-ый и 2-ой месяц максимальный объём трафика составил 15 гб. "
   ]
  },
  {
   "cell_type": "markdown",
   "metadata": {},
   "source": [
    "### Вывод"
   ]
  },
  {
   "cell_type": "markdown",
   "metadata": {},
   "source": [
    "В целом,многие пользователи тарифа ultra не используют все возможности тарифа. Если бы они перешли на тариф smart,  то для них было бы выгоднее докупать необходимые услуги."
   ]
  },
  {
   "cell_type": "markdown",
   "metadata": {},
   "source": [
    "### 4. Проверка гипотез"
   ]
  },
  {
   "cell_type": "markdown",
   "metadata": {},
   "source": [
    "#### 4.1   Значима ли разница между средней вырочкой пользователей тарифов «Ультра» и «Смарт»"
   ]
  },
  {
   "cell_type": "markdown",
   "metadata": {},
   "source": [
    "#### 4.1.1 Cоздадим датасеты выручки пользователей для каждого тарифа"
   ]
  },
  {
   "cell_type": "code",
   "execution_count": 117,
   "metadata": {},
   "outputs": [],
   "source": [
    "smart_revenue= total_table_revenue.query('tariff_name==\"smart\"')\n",
    "ultra_revenue= total_table_revenue.query('tariff_name==\"ultra\"')"
   ]
  },
  {
   "cell_type": "code",
   "execution_count": 118,
   "metadata": {},
   "outputs": [
    {
     "data": {
      "text/plain": [
       "tariff_name\n",
       "smart    2988603.80\n",
       "ultra     601191.25\n",
       "Name: total_revenue, dtype: float64"
      ]
     },
     "execution_count": 118,
     "metadata": {},
     "output_type": "execute_result"
    }
   ],
   "source": [
    "# посчитаем суммарную выручку для каждого тарифа\n",
    "total_table_revenue.groupby('tariff_name')['total_revenue'].sum()"
   ]
  },
  {
   "cell_type": "markdown",
   "metadata": {},
   "source": [
    "#### 4.1.2 Формулируем нулевую гипотезу"
   ]
  },
  {
   "cell_type": "markdown",
   "metadata": {},
   "source": [
    "Нулевая гипотеза: разница между выручками не значима. Они равны между собой.\n",
    "Альтернативная:разница между выручками значима. Они не равны между собой."
   ]
  },
  {
   "cell_type": "code",
   "execution_count": 119,
   "metadata": {},
   "outputs": [
    {
     "name": "stdout",
     "output_type": "stream",
     "text": [
      "p-значение: 1.244425362266183e-31\n",
      "Отвергаем нулевую гипотезу\n"
     ]
    }
   ],
   "source": [
    "from scipy import stats as st\n",
    "import numpy as np\n",
    "alpha = 0.05\n",
    "results =st.ttest_ind(\n",
    "    smart_revenue['total_revenue'],\n",
    "    ultra_revenue['total_revenue'])\n",
    "print('p-значение:',results.pvalue)\n",
    "if (results.pvalue < alpha):\n",
    "    print(\"Отвергаем нулевую гипотезу\")\n",
    "else:\n",
    "    print(\"Не получилось отвергнуть нулевую гипотезу\")"
   ]
  },
  {
   "cell_type": "markdown",
   "metadata": {},
   "source": [
    "#### Вывод"
   ]
  },
  {
   "cell_type": "markdown",
   "metadata": {},
   "source": [
    "Средняя вырочка от пользователей тарифов smart и ultra различается. Нулевая гипотеза была сформулирована так, чтобы использовать знак равенства."
   ]
  },
  {
   "cell_type": "markdown",
   "metadata": {},
   "source": [
    "#### 4.2 Отличается ли средняя выручка пользователей из Москвы от выручки пользователей из других регионов"
   ]
  },
  {
   "cell_type": "markdown",
   "metadata": {},
   "source": [
    "#### 4.2.1 Создади датесеты для Москвы и других регионов"
   ]
  },
  {
   "cell_type": "code",
   "execution_count": 120,
   "metadata": {},
   "outputs": [
    {
     "data": {
      "text/html": [
       "<div>\n",
       "<style scoped>\n",
       "    .dataframe tbody tr th:only-of-type {\n",
       "        vertical-align: middle;\n",
       "    }\n",
       "\n",
       "    .dataframe tbody tr th {\n",
       "        vertical-align: top;\n",
       "    }\n",
       "\n",
       "    .dataframe thead th {\n",
       "        text-align: right;\n",
       "    }\n",
       "</style>\n",
       "<table border=\"1\" class=\"dataframe\">\n",
       "  <thead>\n",
       "    <tr style=\"text-align: right;\">\n",
       "      <th></th>\n",
       "      <th>user_id</th>\n",
       "      <th>month</th>\n",
       "      <th>tariff_name</th>\n",
       "      <th>total_revenue</th>\n",
       "      <th>city</th>\n",
       "    </tr>\n",
       "  </thead>\n",
       "  <tbody>\n",
       "    <tr>\n",
       "      <td>0</td>\n",
       "      <td>1000</td>\n",
       "      <td>5</td>\n",
       "      <td>ultra</td>\n",
       "      <td>-2238.60</td>\n",
       "      <td>Краснодар</td>\n",
       "    </tr>\n",
       "    <tr>\n",
       "      <td>1</td>\n",
       "      <td>1000</td>\n",
       "      <td>6</td>\n",
       "      <td>ultra</td>\n",
       "      <td>962.55</td>\n",
       "      <td>Краснодар</td>\n",
       "    </tr>\n",
       "    <tr>\n",
       "      <td>2</td>\n",
       "      <td>1000</td>\n",
       "      <td>7</td>\n",
       "      <td>ultra</td>\n",
       "      <td>-240.60</td>\n",
       "      <td>Краснодар</td>\n",
       "    </tr>\n",
       "    <tr>\n",
       "      <td>3</td>\n",
       "      <td>1000</td>\n",
       "      <td>8</td>\n",
       "      <td>ultra</td>\n",
       "      <td>-158.50</td>\n",
       "      <td>Краснодар</td>\n",
       "    </tr>\n",
       "    <tr>\n",
       "      <td>4</td>\n",
       "      <td>1000</td>\n",
       "      <td>9</td>\n",
       "      <td>ultra</td>\n",
       "      <td>-47.85</td>\n",
       "      <td>Краснодар</td>\n",
       "    </tr>\n",
       "    <tr>\n",
       "      <td>...</td>\n",
       "      <td>...</td>\n",
       "      <td>...</td>\n",
       "      <td>...</td>\n",
       "      <td>...</td>\n",
       "      <td>...</td>\n",
       "    </tr>\n",
       "    <tr>\n",
       "      <td>2657</td>\n",
       "      <td>1498</td>\n",
       "      <td>10</td>\n",
       "      <td>smart</td>\n",
       "      <td>1915.80</td>\n",
       "      <td>Владикавказ</td>\n",
       "    </tr>\n",
       "    <tr>\n",
       "      <td>2658</td>\n",
       "      <td>1499</td>\n",
       "      <td>9</td>\n",
       "      <td>smart</td>\n",
       "      <td>-2459.40</td>\n",
       "      <td>Пермь</td>\n",
       "    </tr>\n",
       "    <tr>\n",
       "      <td>2659</td>\n",
       "      <td>1499</td>\n",
       "      <td>10</td>\n",
       "      <td>smart</td>\n",
       "      <td>1980.80</td>\n",
       "      <td>Пермь</td>\n",
       "    </tr>\n",
       "    <tr>\n",
       "      <td>2660</td>\n",
       "      <td>1499</td>\n",
       "      <td>11</td>\n",
       "      <td>smart</td>\n",
       "      <td>2537.80</td>\n",
       "      <td>Пермь</td>\n",
       "    </tr>\n",
       "    <tr>\n",
       "      <td>2661</td>\n",
       "      <td>1499</td>\n",
       "      <td>12</td>\n",
       "      <td>smart</td>\n",
       "      <td>1217.40</td>\n",
       "      <td>Пермь</td>\n",
       "    </tr>\n",
       "  </tbody>\n",
       "</table>\n",
       "<p>2662 rows × 5 columns</p>\n",
       "</div>"
      ],
      "text/plain": [
       "      user_id  month tariff_name  total_revenue         city\n",
       "0        1000      5       ultra       -2238.60    Краснодар\n",
       "1        1000      6       ultra         962.55    Краснодар\n",
       "2        1000      7       ultra        -240.60    Краснодар\n",
       "3        1000      8       ultra        -158.50    Краснодар\n",
       "4        1000      9       ultra         -47.85    Краснодар\n",
       "...       ...    ...         ...            ...          ...\n",
       "2657     1498     10       smart        1915.80  Владикавказ\n",
       "2658     1499      9       smart       -2459.40        Пермь\n",
       "2659     1499     10       smart        1980.80        Пермь\n",
       "2660     1499     11       smart        2537.80        Пермь\n",
       "2661     1499     12       smart        1217.40        Пермь\n",
       "\n",
       "[2662 rows x 5 columns]"
      ]
     },
     "execution_count": 120,
     "metadata": {},
     "output_type": "execute_result"
    }
   ],
   "source": [
    "# добавим в таблицу с выручкой города\n",
    "users_city = data_users.filter(['user_id', 'city'],axis=1).set_index('user_id')\n",
    "revenue_city=total_table_revenue.merge(users_city, on=['user_id']).reset_index(drop=True)\n",
    "revenue_city=revenue_city.fillna(0)\n",
    "revenue_city"
   ]
  },
  {
   "cell_type": "code",
   "execution_count": 121,
   "metadata": {},
   "outputs": [],
   "source": [
    "# разобьём данные для Москвы и других регионов\n",
    "revenue_city_Moscow=revenue_city.query('city==\"Москва\"')\n",
    "revenue_city_region=revenue_city.query('city!=\"Москва\"')"
   ]
  },
  {
   "cell_type": "markdown",
   "metadata": {},
   "source": [
    "#### 4.2.2. Формулируем нулевую гипотезу"
   ]
  },
  {
   "cell_type": "markdown",
   "metadata": {},
   "source": [
    "Нулевая гипотеза:статистически выручки не различаются. Альтернативная гипотеза:да, выручки статистически различаются."
   ]
  },
  {
   "cell_type": "code",
   "execution_count": 122,
   "metadata": {},
   "outputs": [
    {
     "name": "stdout",
     "output_type": "stream",
     "text": [
      "p-значение: 0.7820565993543117\n",
      "Не получилось отвергнуть нулевую гипотезу\n"
     ]
    }
   ],
   "source": [
    "alpha = 0.05\n",
    "results =st.ttest_ind(\n",
    "    revenue_city_Moscow['total_revenue'],\n",
    "    revenue_city_region['total_revenue'])\n",
    "print('p-значение:',results.pvalue)\n",
    "if (results.pvalue < alpha):\n",
    "    print(\"Отвергаем нулевую гипотезу\")\n",
    "else:\n",
    "    print(\"Не получилось отвергнуть нулевую гипотезу\")\n",
    "    \n",
    "    "
   ]
  },
  {
   "cell_type": "markdown",
   "metadata": {},
   "source": [
    "#### Вывод"
   ]
  },
  {
   "cell_type": "markdown",
   "metadata": {},
   "source": [
    "Выручки от пользователей из Москвы  и других регионов не различаются."
   ]
  },
  {
   "cell_type": "markdown",
   "metadata": {},
   "source": [
    "### Общий вывод"
   ]
  },
  {
   "cell_type": "markdown",
   "metadata": {},
   "source": [
    "Были проанализированны данные из пяти таблиц. При обработке данных были найдены нулевые значения, которые было решено удалить. Некоторые типы данных были изменены на более подходищие. В целом данные были хорошего качества.\n",
    "Результаты анализа данных показали, что пользователи начали подлючаться к тарифам smart  и ultra начиная с 3-его месяца. И с каждым месяцем объём использования тарифов и выручка увеличивались.\n",
    "\n",
    "<div>По результатам анализа было выдвинуто две гипотезы:</div>\n",
    "<div>1)Сравнивая доходность тарифов была выдвинута гипотеза, что между выручками двух тарифов нет статистической разницы. Применив к двум зависимым критерий стьюдента, выяснили,что статистическая разница есть. Гипотеза была отвергнута. При подсчёте общей выручки для каждого из тарифов было выявлено, что тариф smart приносит больший доход-2988603.80 рублей, в сравнении с тарифов ultra-601191.25 рублей.</div>\n",
    "2)Также была выдвинута гипотеза, что выручки для Москвы и регионов статически не различаются. Гипотеза не была отвергнута, соответственно статистически выручки равнозначны.\n",
    "\n",
    "Рекомендации:\n",
    "<div>1)Так как доход с тарифа smart в 5 раз больше, выгоднее будет вкладывать деньги в его рекламу и развитие. </div>\n",
    "2)Учитывая, что выручка для Москвы и регионов статистически равнозначна, будет дешевле продвигать тарифы в регионах. "
   ]
  }
 ],
 "metadata": {
  "kernelspec": {
   "display_name": "Python 3",
   "language": "python",
   "name": "python3"
  },
  "language_info": {
   "codemirror_mode": {
    "name": "ipython",
    "version": 3
   },
   "file_extension": ".py",
   "mimetype": "text/x-python",
   "name": "python",
   "nbconvert_exporter": "python",
   "pygments_lexer": "ipython3",
   "version": "3.7.6"
  }
 },
 "nbformat": 4,
 "nbformat_minor": 2
}
